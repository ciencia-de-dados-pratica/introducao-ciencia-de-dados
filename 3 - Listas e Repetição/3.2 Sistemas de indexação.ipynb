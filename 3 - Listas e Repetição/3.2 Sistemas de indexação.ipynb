{
 "cells": [
  {
   "cell_type": "markdown",
   "metadata": {},
   "source": [
    "### 3.2 Sistemas de indexação\n",
    "\n",
    "Em python, existem dois sistemas de indexação para listas:\n",
    "\n",
    "- Indexação Positiva: Onde o primeiro elemento tem indice 0, o segundo 1 e assim por diante.\n",
    "- Indexação Negativa: Onde o último elemento tem indice -1, o segundo -2 e assim por diante.\n",
    "\n",
    "\n",
    "```python\n",
    "              \"Indexação Negativa\"\n",
    "          -5      -4    -3     -2    -1   \n",
    "row_1=['Facebook',0.0, 'USD',2974676,3.5]\n",
    "           0       1     2      3     4\n",
    "              \"Indexação Positiva\"\n",
    "```\n",
    "Geralmente utilizamos a indexação positiva para nos referir a um elemento da lista, porém ao se trabalhar com uma lista muito grande fica mais fácil utilizar a indexação negativa quando se quer trabalhar com os ultimos elementos desta lista.\n",
    "\n",
    "[In]\n",
    "```python\n",
    "row_1 = ['Facebook', 0.0, 'USD', 2974676, 3.5]\n",
    "print(row_1[-1])\n",
    "print(row_1[4])\n",
    "```\n",
    "[Out]\n",
    "<p>3.5</p>\n",
    "<p>3.5</p>"
   ]
  },
  {
   "cell_type": "markdown",
   "metadata": {},
   "source": [
    "#### Exercício\n",
    "\n",
    "O último elemento de casa lista repreesenta a média das avaliação de cada aplicativo. Obtenha a média das três avaliações apartir das listas dadas.\n",
    "\n",
    "1. isole os ultimos elementos das listas **row_1**,**row_2** e **row_3**   para as variaveis **rating_1**, **rating_2** e **rating_3**. Tire vantagem da indexação negativa.\n",
    "2. Some as três variaveis e salve em uma variavel com nome **total_rating**.\n",
    "3. Divida o total por 3 e obtenha a média. Salve o resultado na variável **average_rating**."
   ]
  },
  {
   "cell_type": "code",
   "execution_count": null,
   "metadata": {},
   "outputs": [],
   "source": [
    "row_1 = ['Facebook', 0.0, 'USD', 2974676, 3.5]\n",
    "row_2 = ['Instagram', 0.0, 'USD', 2161558, 4.5]\n",
    "row_3 = ['Clash of Clans', 0.0, 'USD', 2130805, 4.5]\n",
    "#Escreva seu código abaixo\n",
    "\n",
    "\n",
    "\n",
    "average_rating="
   ]
  },
  {
   "cell_type": "markdown",
   "metadata": {},
   "source": [
    "Muitas vezes, precisamos isolar mais de um elemento de uma lista. Vamos dizer que queremos isolar o nome do aplicativo e o o número de avaliações da lista **['Facebook', 0.0, 'USD', 2974676, 3.5]**. Utilizando o que foi aprendido até agora, podemos:\n",
    "\n",
    "```python\n",
    "row_1 = ['Facebook', 0.0, 'USD', 2974676, 3.5]\n",
    "app_name=row_1[0]\n",
    "n_of_ratings=row_1[3]\n",
    "rating=row_1[-1]\n",
    "```\n",
    "Se quisermos fazer isso para cada aplicativo da nossa extensa lista, teríamos muitas variáveis e tornaria a elaboração do código dificil e demorada. Uma solução seria armazenar os dados que desejamos trabalhar em uma lista semaparada.\n",
    "\n",
    "[In]\n",
    "```python\n",
    "row_1 = ['Facebook', 0.0, 'USD', 2974676, 3.5]\n",
    "fb.rating_data=[row_1[0],row_1[3],row_1[-1]]\n",
    "```\n",
    "[Out]<p>['Facebook',2974676,3.5]</p>\n",
    "\n",
    "Neste código conseguimos isolar os três elementos de interesse da lista **row_1** em uma nova lista. Utilizando o código **row_1[0],row_1[3],row_1[-1]** cercado por colchetes, para isolar o primeiro, quarto e ultimo elemento e colocá-los em uma nova lista."
   ]
  },
  {
   "cell_type": "markdown",
   "metadata": {},
   "source": [
    "#### Exercício\n",
    "1. Para as linhas 1,2 e 5, isole os dados das avaliações em uma lista separada. cada lista contendo nome do app, número de avaliação(rating count) e avaliação dos usuários(user rating). Não utilize a indexação começando em 0.\n",
    "1. Para o Facebook, isole para uma variável chamada **fb_rating_data**. Repita o processo para as listas pedidas, chamando-as de **insta_rating_data** e **pandora_rating_data**.\n",
    "2. Calcule a média das avaliações dos usuários salvas em **fb_rating_data**, **insta_rating_data** e **pandora_rating_data**. salvando o resultado na variável **avg_rating**(do inglês: average)."
   ]
  },
  {
   "cell_type": "code",
   "execution_count": null,
   "metadata": {},
   "outputs": [],
   "source": []
  }
 ],
 "metadata": {
  "kernelspec": {
   "display_name": "Python 3",
   "language": "python",
   "name": "python3"
  },
  "language_info": {
   "codemirror_mode": {
    "name": "ipython",
    "version": 3
   },
   "file_extension": ".py",
   "mimetype": "text/x-python",
   "name": "python",
   "nbconvert_exporter": "python",
   "pygments_lexer": "ipython3",
   "version": "3.7.3"
  }
 },
 "nbformat": 4,
 "nbformat_minor": 2
}
