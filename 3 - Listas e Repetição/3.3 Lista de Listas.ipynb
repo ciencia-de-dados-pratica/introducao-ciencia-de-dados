{
 "cells": [
  {
   "cell_type": "markdown",
   "metadata": {},
   "source": [
    "# Python para Ciência de Dados - Básico"
   ]
  },
  {
   "cell_type": "markdown",
   "metadata": {},
   "source": [
    "### 3.3 Lista de Listas\n",
    "\n",
    "\n",
    "Até agora, foi introduzido listas como uma alternativa para agrupar os dados que queremos trabalhar por estarem relacionados. Este método é interessante pois toda linha (Row) tem informações de um aplicativo específico, muito mais prático que ter uma variável por dado. Assim, podemos agrupar cada dado em uma lista e salvar em uma variável.\n",
    "\n",
    "Até agora, trabalhamos com um número pequeno de linhas de dados, mas se formos trabalhar com algo em torno de 1000 listas, teríamos 1000 variáveis e isso não é muito trabalhoso e nada funcional.\n",
    "\n",
    "Uma forma de resolver este problema seria usar **Lista de listas**, onde salvamos cada lista de dado em um lista e esta em uma variável, obtendo assim nosso **Data set**(conjunto de dados). Abaixo temos um exemplo.\n"
   ]
  },
  {
   "cell_type": "code",
   "execution_count": 1,
   "metadata": {},
   "outputs": [
    {
     "data": {
      "text/plain": [
       "[['Facebook', 0.0, 'USD', 2974676, 3.5],\n",
       " ['Instagram', 0.0, 'USD', 2161558, 4.5],\n",
       " ['Clash of Clans', 0.0, 'USD', 2130805, 4.5],\n",
       " ['Temple Run', 0.0, 'USD', 1724546, 4.5],\n",
       " ['Pandora - Music & Radio', 0.0, 'USD', 1126879, 4.0]]"
      ]
     },
     "execution_count": 1,
     "metadata": {},
     "output_type": "execute_result"
    }
   ],
   "source": [
    "row_1 = ['Facebook', 0.0, 'USD', 2974676, 3.5]\n",
    "row_2 = ['Instagram', 0.0, 'USD', 2161558, 4.5]\n",
    "row_3 = ['Clash of Clans', 0.0, 'USD', 2130805, 4.5]\n",
    "row_4 = ['Temple Run', 0.0, 'USD', 1724546, 4.5]\n",
    "row_5 = ['Pandora - Music & Radio', 0.0, 'USD', 1126879, 4.0]\n",
    "data_set=[row_1,row_2,row_3,row_4,row_5]\n",
    "data_set"
   ]
  },
  {
   "cell_type": "markdown",
   "metadata": {},
   "source": [
    "A variável **data_set** é uma lista, ou seja podemos usar tudo que foi aprendido para recuperar um elemento desta lista, que também é uma lista contendo os dados que queremos trabalhar. Assim,\n",
    "\n",
    "- recuperamos o primeiro elemento (row_1) usando **data_set[0]**.\n",
    "- O ultimo elemento (row_5) usando **data_set[-1]**.\n",
    "- OS primeiros dois elemento (row_1 e row_2) usando a partição **data_set[:2]**\n",
    "\n",
    "Muitas vezes, precisamos recuperar um dado de uma lista que faz parte de uma lista de lista - por exemplo, podemos querer isalar o valor 3.5 de  ['Facebook', 0.0, 'USD', 2974676, 3.5], que faz parte do nosso data_set. Podemos fazer isso da seguinte forma:\n",
    "\n",
    "- Recuperamos row_1 usando **data_set[0]**, e colocamos o resultado em uma variável de nome **fb_row**.\n",
    "- através desta variável podemos acessar o valor 3.5 usando **fb_row[-1]** e assim salvar o resultado em uma variável de nome **fb_rating**."
   ]
  },
  {
   "cell_type": "code",
   "execution_count": 2,
   "metadata": {},
   "outputs": [
    {
     "name": "stdout",
     "output_type": "stream",
     "text": [
      "['Facebook', 0.0, 'USD', 2974676, 3.5]\n",
      "3.5\n"
     ]
    }
   ],
   "source": [
    "data_set=[row_1,row_2,row_3,row_4,row_5]\n",
    "fb_row = data_set[0]\n",
    "print(fb_row)\n",
    "fb_rating = fb_row[-1]\n",
    "print(fb_rating)"
   ]
  },
  {
   "cell_type": "markdown",
   "metadata": {},
   "source": [
    "Este processo pode ser trabalhoso, pois para cada dado teríamos que criar duas variáveis para salvá-lo. Uma forma de facilitar esse processo seria usando dois indices para acessar a variável desejada, com o código **data_set[0][-1]**.\n",
    "```python\n",
    "data_set=[row_1,row_2,row_3,row_4,row_5]\n",
    "print(data_set[0][-1])\n",
    "      -----------\n",
    "          row_1\n",
    "['Facebook', 0.0, 'USD', 2974676, 3.5]\n",
    "```"
   ]
  },
  {
   "cell_type": "code",
   "execution_count": 3,
   "metadata": {},
   "outputs": [
    {
     "name": "stdout",
     "output_type": "stream",
     "text": [
      "3.5\n"
     ]
    }
   ],
   "source": [
    "print(data_set[0][-1])"
   ]
  },
  {
   "cell_type": "markdown",
   "metadata": {},
   "source": [
    "#### Exercício\n",
    "1. Armazene as cinco variáveis em uma variável de nome **app_data_set**.\n",
    "2. calcule a média das avaliações dos aplicativos.\n",
    "    - A avaliação é o último elemento de cada linha. É necessário fazer a soma das avaliações e depois fazer a divisão pelo número de avaliações.\n",
    "    - Por fim, Armazene o resultado em uma variável de nome **avg_rating**\n",
    "    \n",
    "[\n",
    "para duas variáveis\n",
    "avg_rating= (app_data_set\\[0\\]\\[-1\\] + app_data_set\\[1\\]\\[-1\\])/2\n",
    "Obs: ignore os \"\\\"\n",
    "\n",
    "]:<dica>    "
   ]
  },
  {
   "cell_type": "code",
   "execution_count": 6,
   "metadata": {},
   "outputs": [],
   "source": [
    "row_1 = ['Facebook', 0.0, 'USD', 2974676, 3.5]\n",
    "row_2 = ['Instagram', 0.0, 'USD', 2161558, 4.5]\n",
    "row_3 = ['Clash of Clans', 0.0, 'USD', 2130805, 4.5]\n",
    "row_4 = ['Temple Run', 0.0, 'USD', 1724546, 4.5]\n",
    "row_5 = ['Pandora - Music & Radio', 0.0, 'USD', 1126879, 4.0]\n",
    "#escreva seu código aqui"
   ]
  }
 ],
 "metadata": {
  "kernelspec": {
   "display_name": "Python 3",
   "language": "python",
   "name": "python3"
  },
  "language_info": {
   "codemirror_mode": {
    "name": "ipython",
    "version": 3
   },
   "file_extension": ".py",
   "mimetype": "text/x-python",
   "name": "python",
   "nbconvert_exporter": "python",
   "pygments_lexer": "ipython3",
   "version": "3.7.3"
  }
 },
 "nbformat": 4,
 "nbformat_minor": 2
}
