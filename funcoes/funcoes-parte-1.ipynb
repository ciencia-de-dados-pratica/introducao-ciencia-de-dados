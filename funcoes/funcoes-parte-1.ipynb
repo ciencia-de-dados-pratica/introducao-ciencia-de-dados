{
 "cells": [
  {
   "cell_type": "markdown",
   "metadata": {},
   "source": [
    "# Python para Ciência de Dados - Funções - Parte 1"
   ]
  },
  {
   "cell_type": "markdown",
   "metadata": {},
   "source": [
    "## Introdução\n",
    "Quando utilizamos os comandos `print()`, `sum()`, `len()`, entre outros, estamos utilizando **funções**, também conhecidas como sub-rotinas. O que uma função faz pode ser resumido em três etapas:\n",
    "- Receber uma entrada;\n",
    "- Realizar alguma coisa com a entrada passada;\n",
    "- Retornar uma saída;\n",
    "\n",
    "Por exemplo, se quisermos saber a quantidade de elementos presentes numa lista, podemos fazer algo semelhante à isso:"
   ]
  },
  {
   "cell_type": "code",
   "execution_count": 14,
   "metadata": {},
   "outputs": [],
   "source": [
    "lista = [10, 8, 1, 6, 2, 9]"
   ]
  },
  {
   "cell_type": "code",
   "execution_count": 15,
   "metadata": {},
   "outputs": [
    {
     "data": {
      "text/plain": [
       "6"
      ]
     },
     "execution_count": 15,
     "metadata": {},
     "output_type": "execute_result"
    }
   ],
   "source": [
    "quantidade_elementos = 0\n",
    "for item in lista:\n",
    "    quantidade_elementos += 1\n",
    "quantidade_elementos"
   ]
  },
  {
   "cell_type": "markdown",
   "metadata": {},
   "source": [
    "Mas, para facilitar em fatores como a legibilidade do código, a facilidade de escrita e muitas vezes na eficiência, podemos utilizar funções. Para o exemplo anterior, basta utilizar a função `len()`: "
   ]
  },
  {
   "cell_type": "code",
   "execution_count": 16,
   "metadata": {},
   "outputs": [
    {
     "data": {
      "text/plain": [
       "6"
      ]
     },
     "execution_count": 16,
     "metadata": {},
     "output_type": "execute_result"
    }
   ],
   "source": [
    "len(lista)"
   ]
  },
  {
   "cell_type": "markdown",
   "metadata": {},
   "source": [
    "#### Exercício\n",
    "1. Utilizando a lista anteriormente criada, atribua à variável `sum_elementos` a soma de todos os elementos da lista."
   ]
  },
  {
   "cell_type": "code",
   "execution_count": null,
   "metadata": {},
   "outputs": [],
   "source": []
  },
  {
   "cell_type": "markdown",
   "metadata": {},
   "source": [
    "## Evitando repetições\n",
    "Uma característica fundamental do uso de funções é a reutilização de código.\n",
    "\n",
    "Por exemplo, imagine que temos 10 listas diferentes e desejamos salvar o valor da soma dos elementos de cada lista. Sem a utilização de funções, teríamos de fazer 10 `for`s diferentes para iterarmos sobre cada lista e então irmos somando os valores. Isso iria gerar um código desnecessariamente grande. No entando, basta nós chamarmos quantas vezes for necessário a função `sum()` passando as listas para serem calculadas."
   ]
  },
  {
   "cell_type": "markdown",
   "metadata": {},
   "source": [
    "Nós vimos várias funções como `len()`, `sum()`, `min()`, entre outras. Essas funções são nativas do Python e podem ser usadas quando for quiser sem a necessidade de serem importadas, a esse tipo de função, damos o nome de **built-in functions**, ou mesmo funções nativas da linguagem."
   ]
  },
  {
   "cell_type": "code",
   "execution_count": null,
   "metadata": {},
   "outputs": [],
   "source": []
  },
  {
   "cell_type": "code",
   "execution_count": null,
   "metadata": {},
   "outputs": [],
   "source": []
  },
  {
   "cell_type": "markdown",
   "metadata": {},
   "source": [
    "No entando, Python não possui funções para todas as ações que desejamos, "
   ]
  },
  {
   "cell_type": "markdown",
   "metadata": {},
   "source": [
    "## Criando nossas funções\n",
    "Sabemos a facilidade e o poder que as funções nativas das linguagens nos dão. Mas, nem todos os problemas que enfrentamos pode ser resolvido com funções nativas, vamos dar uma olhada como podemos criar nossas próprias funções.\n",
    "\n",
    "Imagine que queremos criar uma função que dê saudações para uma pessoa.\n",
    "Para criarmos essa função, iniciamos com o comando `def` seguido do nome que daremos à nossa função, nesse caso será _saudacoes_. Logo após o nome da função, atribuímos quais serão os _parâmetros_ que serão passados para a função, ou seja, os valores que essa função receberá para executar seu trabalho. Para finalizar a linha, inserimos os `:` para definirmos o escopo da função.\n",
    "\n",
    "Dentro do escopo da função, nós vamos instruir o que essa função fará. Nesse caso, vamos **retornar** uma mensagem de saudações à pessoa."
   ]
  },
  {
   "cell_type": "code",
   "execution_count": 3,
   "metadata": {},
   "outputs": [],
   "source": [
    "def saudacoes(nome):\n",
    "    mensagem = 'Hello ' + nome\n",
    "    return mensagem"
   ]
  },
  {
   "cell_type": "markdown",
   "metadata": {},
   "source": [
    "Depois de criarmos nossa função, basta invocarmos ela e então usar o resultado computado por ela:"
   ]
  },
  {
   "cell_type": "code",
   "execution_count": 5,
   "metadata": {},
   "outputs": [
    {
     "name": "stdout",
     "output_type": "stream",
     "text": [
      "Hello Pessoa\n"
     ]
    }
   ],
   "source": [
    "minha_mensagem = saudacoes('Pessoa')\n",
    "print(minha_mensagem)"
   ]
  },
  {
   "cell_type": "markdown",
   "metadata": {},
   "source": [
    "#### Exercício\n",
    "3. Crie uma função que recebe número e retorna o cubo desse número."
   ]
  },
  {
   "cell_type": "code",
   "execution_count": null,
   "metadata": {},
   "outputs": [],
   "source": []
  }
 ],
 "metadata": {
  "kernelspec": {
   "display_name": "Python 2",
   "language": "python",
   "name": "python2"
  },
  "language_info": {
   "codemirror_mode": {
    "name": "ipython",
    "version": 3
   },
   "file_extension": ".py",
   "mimetype": "text/x-python",
   "name": "python",
   "nbconvert_exporter": "python",
   "pygments_lexer": "ipython3",
   "version": "3.6.7"
  }
 },
 "nbformat": 4,
 "nbformat_minor": 2
}
