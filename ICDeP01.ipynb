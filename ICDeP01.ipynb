{
 "cells": [
  {
   "cell_type": "markdown",
   "metadata": {},
   "source": [
    "# Python para Ciência de Dados - Básico\n",
    "\n",
    "\n",
    "\n",
    "\n",
    "[https://www.ibm.com/support/knowledgecenter/en/SSGNPV_1.1.3/dsx/markd-jupyter.html]:<markdown>\n",
    "\n",
    "\n",
    "[Qual\n",
    "quer\n",
    "texto\n",
    "que\n",
    "queira\n",
    "comentar]: <comentário>"
   ]
  },
  {
   "cell_type": "markdown",
   "metadata": {},
   "source": [
    "## 1. Programando em Python\n",
    "\n",
    "Neste cursos você irá aprender os fundamentos de ciência de dados em python. Onde serão nessário apenas seu conhecimento prévio de programação, Algebra, Estatística, banco de dados, etc. Neste primeiro módulo vamos nos focar em programação em python."
   ]
  },
  {
   "cell_type": "markdown",
   "metadata": {},
   "source": [
    "Para programar computadores precisamos escrever uma série de instruções usando uma linguagem de programação específica. Neste curso vamos aprender python, uma linguagem de programação que tras grandes facilidades e poderosas ferramentas para o estudo e tratamento de dados.\n",
    "\n",
    "\n",
    "Vamos começar somando dois números: 25+8. Para fazer isso precisamos escrever $25+8$ no editor de código abaixo e clicarmos em \"Run\" ou usando o atalho \"Shift+Enter\". O computador execultara a instrução e retornara o número \"33\" como resultado.\n",
    "[```python\n",
    "25+8\n",
    "```\n",
    "33\n"
   ]
  },
  {
   "cell_type": "markdown",
   "metadata": {},
   "source": [
    "#### Exercício\n",
    "1. insira uma operação com dois ou mais números e execute, verificando se o resultado retornado está correto.\n",
    "\n",
    "\n",
    "[ex:\n",
    "    27+3\n",
    "    25+6+7-2\n",
    "    5+3-4+ 2*3\n",
    "]:<exemplo>"
   ]
  },
  {
   "cell_type": "code",
   "execution_count": 3,
   "metadata": {},
   "outputs": [
    {
     "data": {
      "text/plain": [
       "29"
      ]
     },
     "execution_count": 3,
     "metadata": {},
     "output_type": "execute_result"
    }
   ],
   "source": [
    "#exercício\n",
    "25+4"
   ]
  },
  {
   "cell_type": "markdown",
   "metadata": {},
   "source": [
    "Nos execultamos uma instrução simples, porém, se colocarmos uma série de instruções simples apenas a última instrução será retornada (como podemos ver abaixo).\n",
    "\n",
    "\n",
    "[In]\n",
    "```python\n",
    "23+7\n",
    "5+8\n",
    "15*4\n",
    "12-3+5\n",
    "```\n",
    "[Out]14\n",
    "\n",
    "### 1.1 Comando Print()\n",
    "\n",
    "O computador executa todas as instruções, porém mostra na tela, somente, o último. Para mostrar na tela todos os resultados podemos usar o comando **print()**, por isso que o ato de mostrar na tela, em programação, pode ser substituido pelo termo **\"Printar\"**.\n",
    "[In]\n",
    "```python\n",
    "print(23+7)\n",
    "print(10+8)\n",
    "print(15*4)\n",
    "print(12-3+5)\n",
    "```\n",
    "[Out] \n",
    "30\n",
    "\n",
    "18\n",
    "\n",
    "60\n",
    "\n",
    "14"
   ]
  },
  {
   "cell_type": "markdown",
   "metadata": {},
   "source": [
    "#### Exercício\n",
    "1. Usando o comando **print()**, mostre na tela os resultados para:\n",
    "- 40+4\n",
    "- 200-25\n",
    "- 14+3\n",
    "- 5*7\n",
    "\n",
    "[print(40+4)\n",
    "print(200-25)\n",
    "print(14+3)\n",
    "print(5*7)]: <resposta>"
   ]
  },
  {
   "cell_type": "code",
   "execution_count": 5,
   "metadata": {},
   "outputs": [
    {
     "name": "stdout",
     "output_type": "stream",
     "text": [
      "30\n",
      "3\n",
      "22\n"
     ]
    }
   ],
   "source": [
    "print(23+7) \n",
    "print(5-2) \n",
    "print(7+15)"
   ]
  },
  {
   "cell_type": "markdown",
   "metadata": {},
   "source": [
    "Anteriormente, mandamos o computador executar algumas  instruções escritas linha a linha. Se escrevermos cada instrução na mesma linha nos retornará um alerta de erro:\n",
    "\n",
    "<img src=\"1.1.png\" width=50%/>\n",
    "\n",
    "Como resultado retorna um texto vermelho descrevendo *Syntax error* (erro de Sintaxe). Isto ocorre porque todas as linguagens de programação tem regras de sintaxe. Cada linha de instrução tem que seguir esta regra.\n",
    "\n",
    "\n",
    "\n",
    "\n",
    "\n",
    "[<img src=\"url.gif\" alt=\"Alt text that describes the graphic\" title=\"Title text\" />]:<comando>"
   ]
  },
  {
   "cell_type": "markdown",
   "metadata": {},
   "source": [
    "#### Exercício\n",
    "\n",
    "1. Execute as operações abaixo printando o resultado na tela. (lembre de escrever na mesma linha)\n",
    "```python\n",
    "30+10+5\n",
    "6*9\n",
    "15-18\n",
    "4\n",
    "-7\n",
    "```\n",
    "[Use a função print()]:<>"
   ]
  },
  {
   "cell_type": "markdown",
   "metadata": {},
   "source": [
    "Quando escrevemos um codigo, nos estamos programando um computador para fazer alguma coisa. Um código que nos escrevemos serve como entrada(**Input**) para o computador. E o resultado de execução do código é chamdo **output**(saída).\n",
    "\n",
    "### 1.2 Comentário\n",
    "O computador executa linha por linha sequencialmente ignorando linha em branco e linha com o caractere **#**. Um comentário em programação ou um trecho de linha ignorado pelo compilador, mas que serve para testar o código com ou sem uma certa linha ou para informar a finalidade de cada linha ou trecho de código para terceiros.\n",
    "\n",
    "[In]\n",
    "```python\n",
    "#print(15-6) #linha comentada\n",
    "print(7+5) # linha não comentada\n",
    "```\n",
    "[Out]\n",
    "\n",
    "12"
   ]
  },
  {
   "cell_type": "markdown",
   "metadata": {},
   "source": [
    "#### Exercício\n",
    "1. Execute o código abaixo sem os comentários:\n",
    "\n",
    "\n",
    "```python\n",
    "#print(35+7)\n",
    "#print(26-9)\n",
    "#print(7**2)\n",
    "#print(6*2 + 5)\n",
    "\n",
    "```\n",
    "\n",
    "\n",
    "[Basta retirar os #'s]:<dica>"
   ]
  },
  {
   "cell_type": "code",
   "execution_count": null,
   "metadata": {},
   "outputs": [],
   "source": []
  },
  {
   "cell_type": "markdown",
   "metadata": {},
   "source": [
    "### 1.3 Operações Artméticas \n",
    "\n",
    "[7/9]:<>"
   ]
  },
  {
   "cell_type": "markdown",
   "metadata": {},
   "source": [
    "Até agora foram usados algumas operações matemáticas para printar os seus resultados. Agora vamos nos aprofundar no assunto e ver quais as operações e suas sintaxes em python. Existem 5 operações básicas na matemática, são elas:\n",
    "\n",
    "- Adição - simbolizada por **+**;\n",
    "```python\n",
    "2+3\n",
    "65+7\n",
    "```\n",
    "- Subtração - Simbolizada **-**;\n",
    "```python\n",
    "2-5\n",
    "25-8\n",
    "```\n",
    "- Multiplicação - Simbolizada po *****;\n",
    "```python\n",
    "2*6\n",
    "5*2\n",
    "```\n",
    "- Divisão - Simbolizada por **/**;\n",
    "```python\n",
    "25/5\n",
    "60/7\n",
    "```\n",
    "- potenciação -  simbolizada por ******.\n",
    "```python\n",
    "2**6\n",
    "5**2\n",
    "```\n",
    "Assim como na matemática as algumas operações aritméticas tem preferencia sobre as outras, ou seja, operações dentro de parenteses tem preferencia sobre multiplicação e divisão, que por sua vez tem preferencia sobre adição e subtração, como pode ser visto abaixo.\n",
    "\n",
    "[In]\n",
    "```python\n",
    "print(4+2*10)\n",
    "print((4+2)*10)\n",
    "```\n",
    "[Out]\n",
    "\n",
    "24\n",
    "\n",
    "60\n",
    "\n",
    "Podemos usar espaços entre os operadores($+$, $-$, $*$, $/$, $**$) que o compilador entende que deseja fazer uma operação. \n"
   ]
  },
  {
   "cell_type": "markdown",
   "metadata": {},
   "source": [
    "#### Exercício\n",
    "1. Escreva um programa com 3 linha de código utilizando os operadores aritméticos e mostre na tela os resultados(você precisa usar o comando  **print()**)\n",
    "\n",
    "    - $16*10$\n",
    "    - $48*5$\n",
    "    - $5^3$\n",
    "    - $2^3+(6-4)*3- 5/2$"
   ]
  },
  {
   "cell_type": "code",
   "execution_count": null,
   "metadata": {},
   "outputs": [],
   "source": []
  }
 ],
 "metadata": {
  "kernelspec": {
   "display_name": "Python 3",
   "language": "python",
   "name": "python3"
  },
  "language_info": {
   "codemirror_mode": {
    "name": "ipython",
    "version": 3
   },
   "file_extension": ".py",
   "mimetype": "text/x-python",
   "name": "python",
   "nbconvert_exporter": "python",
   "pygments_lexer": "ipython3",
   "version": "3.7.2"
  }
 },
 "nbformat": 4,
 "nbformat_minor": 2
}
