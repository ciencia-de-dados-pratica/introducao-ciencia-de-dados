{
 "cells": [
  {
   "cell_type": "markdown",
   "metadata": {},
   "source": [
    "# Python para Ciência de Dados - Funções - Parte 3"
   ]
  },
  {
   "cell_type": "markdown",
   "metadata": {},
   "source": [
    "## Múltiplos parâmetros em funções\n",
    "Um dos aspectos chave para o uso de funções é a reusabilidade. Se a construção de uma não não permitir que ela seja reutilizada em tarefas do mesmo tipo, essa não pode ser considerada uma boa função.\n",
    "\n",
    "Uma característica que nos permite aplicar uma maior reusabilidade no código é a adição de múltiplos parâmetros para a função. Por exemplo, podemos generalizar uma das funções que fizemos no notebook passado, desse modo, passamos a pegar as informações de um índice e dataset informados na chamada dsa função. "
   ]
  },
  {
   "cell_type": "code",
   "execution_count": 11,
   "metadata": {},
   "outputs": [],
   "source": [
    "import pandas as pd\n",
    "apps = pd.read_csv('apps-dados.csv')"
   ]
  },
  {
   "cell_type": "code",
   "execution_count": 12,
   "metadata": {},
   "outputs": [
    {
     "data": {
      "text/html": [
       "<div>\n",
       "<style scoped>\n",
       "    .dataframe tbody tr th:only-of-type {\n",
       "        vertical-align: middle;\n",
       "    }\n",
       "\n",
       "    .dataframe tbody tr th {\n",
       "        vertical-align: top;\n",
       "    }\n",
       "\n",
       "    .dataframe thead th {\n",
       "        text-align: right;\n",
       "    }\n",
       "</style>\n",
       "<table border=\"1\" class=\"dataframe\">\n",
       "  <thead>\n",
       "    <tr style=\"text-align: right;\">\n",
       "      <th></th>\n",
       "      <th>App Name</th>\n",
       "      <th>Category</th>\n",
       "      <th>Rating</th>\n",
       "      <th>Reviews</th>\n",
       "      <th>Installs</th>\n",
       "      <th>Size</th>\n",
       "      <th>Price</th>\n",
       "      <th>Content Rating</th>\n",
       "      <th>Last Updated</th>\n",
       "      <th>Minimum Version</th>\n",
       "      <th>Latest Version</th>\n",
       "    </tr>\n",
       "  </thead>\n",
       "  <tbody>\n",
       "    <tr>\n",
       "      <th>0</th>\n",
       "      <td>DoorDash - Food Delivery</td>\n",
       "      <td>FOOD_AND_DRINK</td>\n",
       "      <td>4.548562</td>\n",
       "      <td>305034</td>\n",
       "      <td>5,000,000+</td>\n",
       "      <td>Varies with device</td>\n",
       "      <td>0</td>\n",
       "      <td>Everyone</td>\n",
       "      <td>March 29, 2019</td>\n",
       "      <td>Varies with device</td>\n",
       "      <td>Varies with device</td>\n",
       "    </tr>\n",
       "    <tr>\n",
       "      <th>1</th>\n",
       "      <td>TripAdvisor Hotels Flights Restaurants Attract...</td>\n",
       "      <td>TRAVEL_AND_LOCAL</td>\n",
       "      <td>4.400671</td>\n",
       "      <td>1207922</td>\n",
       "      <td>100,000,000+</td>\n",
       "      <td>Varies with device</td>\n",
       "      <td>0</td>\n",
       "      <td>Everyone</td>\n",
       "      <td>March 29, 2019</td>\n",
       "      <td>Varies with device</td>\n",
       "      <td>Varies with device</td>\n",
       "    </tr>\n",
       "    <tr>\n",
       "      <th>2</th>\n",
       "      <td>Peapod</td>\n",
       "      <td>SHOPPING</td>\n",
       "      <td>3.656329</td>\n",
       "      <td>1967</td>\n",
       "      <td>100,000+</td>\n",
       "      <td>1.4M</td>\n",
       "      <td>0</td>\n",
       "      <td>Everyone</td>\n",
       "      <td>September 20, 2018</td>\n",
       "      <td>5.0 and up</td>\n",
       "      <td>2.2.0</td>\n",
       "    </tr>\n",
       "    <tr>\n",
       "      <th>3</th>\n",
       "      <td>foodpanda - Local Food Delivery</td>\n",
       "      <td>FOOD_AND_DRINK</td>\n",
       "      <td>4.107233</td>\n",
       "      <td>389154</td>\n",
       "      <td>10,000,000+</td>\n",
       "      <td>16M</td>\n",
       "      <td>0</td>\n",
       "      <td>Everyone</td>\n",
       "      <td>March 22, 2019</td>\n",
       "      <td>4.2 and up</td>\n",
       "      <td>4.18.2</td>\n",
       "    </tr>\n",
       "    <tr>\n",
       "      <th>4</th>\n",
       "      <td>My CookBook Pro (Ad Free)</td>\n",
       "      <td>FOOD_AND_DRINK</td>\n",
       "      <td>4.647752</td>\n",
       "      <td>2291</td>\n",
       "      <td>10,000+</td>\n",
       "      <td>Varies with device</td>\n",
       "      <td>$5.99</td>\n",
       "      <td>Everyone</td>\n",
       "      <td>April 1, 2019</td>\n",
       "      <td>Varies with device</td>\n",
       "      <td>Varies with device</td>\n",
       "    </tr>\n",
       "  </tbody>\n",
       "</table>\n",
       "</div>"
      ],
      "text/plain": [
       "                                            App Name          Category  \\\n",
       "0                           DoorDash - Food Delivery    FOOD_AND_DRINK   \n",
       "1  TripAdvisor Hotels Flights Restaurants Attract...  TRAVEL_AND_LOCAL   \n",
       "2                                             Peapod          SHOPPING   \n",
       "3                    foodpanda - Local Food Delivery    FOOD_AND_DRINK   \n",
       "4                          My CookBook Pro (Ad Free)    FOOD_AND_DRINK   \n",
       "\n",
       "     Rating  Reviews      Installs                Size  Price Content Rating  \\\n",
       "0  4.548562   305034    5,000,000+  Varies with device      0       Everyone   \n",
       "1  4.400671  1207922  100,000,000+  Varies with device      0       Everyone   \n",
       "2  3.656329     1967      100,000+                1.4M      0       Everyone   \n",
       "3  4.107233   389154   10,000,000+                 16M      0       Everyone   \n",
       "4  4.647752     2291       10,000+  Varies with device  $5.99       Everyone   \n",
       "\n",
       "         Last Updated     Minimum Version      Latest Version  \n",
       "0      March 29, 2019  Varies with device  Varies with device  \n",
       "1      March 29, 2019  Varies with device  Varies with device  \n",
       "2  September 20, 2018          5.0 and up               2.2.0  \n",
       "3      March 22, 2019          4.2 and up              4.18.2  \n",
       "4       April 1, 2019  Varies with device  Varies with device  "
      ]
     },
     "execution_count": 12,
     "metadata": {},
     "output_type": "execute_result"
    }
   ],
   "source": [
    "apps.head()"
   ]
  },
  {
   "cell_type": "code",
   "execution_count": 13,
   "metadata": {},
   "outputs": [],
   "source": [
    "def info(indice, dataset):\n",
    "    infos = []\n",
    "    for col in dataset.iloc[indice]:\n",
    "        infos.append(col)\n",
    "    return infos"
   ]
  },
  {
   "cell_type": "markdown",
   "metadata": {},
   "source": [
    "Assim, na chamada da função, passamos o determinado índice de determinado dataset que queremos. Desse modo, aumentamos a reusabilidade da função."
   ]
  },
  {
   "cell_type": "code",
   "execution_count": 14,
   "metadata": {},
   "outputs": [
    {
     "data": {
      "text/plain": [
       "['My CookBook Pro (Ad Free)',\n",
       " 'FOOD_AND_DRINK',\n",
       " 4.647752285,\n",
       " 2291,\n",
       " '10,000+',\n",
       " 'Varies with device',\n",
       " '$5.99',\n",
       " 'Everyone',\n",
       " 'April 1, 2019',\n",
       " 'Varies with device',\n",
       " 'Varies with device']"
      ]
     },
     "execution_count": 14,
     "metadata": {},
     "output_type": "execute_result"
    }
   ],
   "source": [
    "info(4, apps)"
   ]
  },
  {
   "cell_type": "markdown",
   "metadata": {},
   "source": [
    "#### Exercício\n",
    "1. Crie uma função que receba um nome, um índice e um dataset. Retorne se o nome passado como parâmetro corresponde ao nome do aplicativo no determinado índice do dataset informado."
   ]
  },
  {
   "cell_type": "code",
   "execution_count": null,
   "metadata": {},
   "outputs": [],
   "source": []
  },
  {
   "cell_type": "markdown",
   "metadata": {},
   "source": [
    "## Passando e recebendo múltiplos parâmetros\n",
    "Temos duas formas de passar parâmetros para funções.\n",
    "\n",
    "- Podemos simplesmente passar os argumentos de forma posicional, passando apenas números como parâmetros na chamada da função:\n",
    "\n",
    "```python\n",
    "def subtrair(a, b):\n",
    "    return a - b\n",
    "\n",
    "subtrair(5, 3)\n",
    "```\n",
    "- Ou podemos passar os argumentos de forma nomeada. Desse modo, a ordem em que os parâmetros foram inseridos, não fará diferença:\n",
    "\n",
    "```python\n",
    "def subtrair(a, b):\n",
    "    return a - b\n",
    "\n",
    "subtrair(a=5, b=3)\n",
    "subtrair(b=3, a=5)\n",
    "# Ambas as chamadas de função possuem o mesmo resultado\n",
    "```"
   ]
  },
  {
   "cell_type": "markdown",
   "metadata": {},
   "source": [
    "Essa abordagem é útil quando temos ciência dos nomes dos parâmetros e assim não nos é interessante nos preocupar com a ordem com que são passados."
   ]
  },
  {
   "cell_type": "markdown",
   "metadata": {},
   "source": [
    "#### Exercício\n",
    "2. Realize diversas chamadas à função criada no exercício anterior, passando os parâmetros fora de ordem."
   ]
  },
  {
   "cell_type": "code",
   "execution_count": null,
   "metadata": {},
   "outputs": [],
   "source": []
  },
  {
   "cell_type": "markdown",
   "metadata": {},
   "source": [
    "## Funções no corpo de outras funções\n",
    "Às vezes, o reultado de uma função depende do resultado de uma outra. Para fazer isso, podemos simplesmente inserir uma função no corpo de uma outra e assim a utilizarmos."
   ]
  },
  {
   "cell_type": "code",
   "execution_count": 35,
   "metadata": {},
   "outputs": [
    {
     "data": {
      "text/plain": [
       "4.283000082862069"
      ]
     },
     "execution_count": 35,
     "metadata": {},
     "output_type": "execute_result"
    }
   ],
   "source": [
    "def lista_de_valores(dataset, coluna):\n",
    "    lista = []\n",
    "    for index, row in dataset.iterrows():\n",
    "        lista.append(row[coluna])\n",
    "    return lista\n",
    "\n",
    "def media(dataset, coluna):\n",
    "    lista = lista_de_valores(dataset, coluna)\n",
    "    return sum(lista) / len(lista)\n",
    "\n",
    "media(coluna='Rating', dataset=apps)"
   ]
  },
  {
   "cell_type": "markdown",
   "metadata": {},
   "source": [
    "Desse modo, podemos nos beneficiar ao utilizarmos o resultado de uma função para ajudar na execução de uma outra."
   ]
  },
  {
   "cell_type": "markdown",
   "metadata": {},
   "source": [
    "#### Exercício\n",
    "3. ..."
   ]
  },
  {
   "cell_type": "code",
   "execution_count": null,
   "metadata": {},
   "outputs": [],
   "source": []
  }
 ],
 "metadata": {
  "kernelspec": {
   "display_name": "Python 3",
   "language": "python",
   "name": "python3"
  },
  "language_info": {
   "codemirror_mode": {
    "name": "ipython",
    "version": 3
   },
   "file_extension": ".py",
   "mimetype": "text/x-python",
   "name": "python",
   "nbconvert_exporter": "python",
   "pygments_lexer": "ipython3",
   "version": "3.6.7"
  }
 },
 "nbformat": 4,
 "nbformat_minor": 2
}
