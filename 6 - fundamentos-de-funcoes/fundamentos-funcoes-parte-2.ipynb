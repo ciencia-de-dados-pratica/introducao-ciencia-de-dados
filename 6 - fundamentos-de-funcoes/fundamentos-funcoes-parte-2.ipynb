{
 "cells": [
  {
   "cell_type": "markdown",
   "metadata": {},
   "source": [
    "# Python para Ciência de Dados - Funções - Parte 2"
   ]
  },
  {
   "cell_type": "markdown",
   "metadata": {},
   "source": [
    "## Entendendo melhor as funções\n",
    "Estruturalmente, uma função é composta pelo cabeçalho (que contém a declaração `def`), o corpo da função (onde de fato definimos o que a função faz) e a declaração de retorno (especificada pelo comando `return`), nós também podemos retornar diretamente o resultado da operação no `return`, sem necessitar guardar o resultado em uma variável. \n",
    "\n",
    "Essa estrutura nos fornece a **definição da função**. A identação do código, assim como nas estruturas condicionais e de repetição, marcam o escopo da função."
   ]
  },
  {
   "cell_type": "code",
   "execution_count": 127,
   "metadata": {},
   "outputs": [
    {
     "data": {
      "text/plain": [
       "27"
      ]
     },
     "execution_count": 127,
     "metadata": {},
     "output_type": "execute_result"
    }
   ],
   "source": [
    "def cubo(num):    #cabecalho\n",
    "    resp = num*num*num    #corpo da funcao\n",
    "    return resp    #retorno\n",
    "\n",
    "cubo(3)    #chamada da funcao"
   ]
  },
  {
   "cell_type": "markdown",
   "metadata": {},
   "source": [
    "#### Exercício\n",
    "1. Crie uma função que receba um número e retorne o texto `maior que dez!` se o valor for de fato maior que 10 e retorne `nao maior que dez!` se ele nao for maior."
   ]
  },
  {
   "cell_type": "code",
   "execution_count": null,
   "metadata": {},
   "outputs": [],
   "source": []
  },
  {
   "cell_type": "markdown",
   "metadata": {},
   "source": [
    "## Extraindo valores\n",
    "Nós já trabalhamos com um exemplo de dataset antes, agora, com o auxílio de funções, vamos criar uma função que nos retorne uma lista com os valores da coluna selecionada. Antes, vamos realizar o mesmo processo de importar o _pandas_ e o dataset, que dessa vez será sobre alguns aplicativos presentes na Google Play."
   ]
  },
  {
   "cell_type": "code",
   "execution_count": 128,
   "metadata": {},
   "outputs": [],
   "source": [
    "import pandas as pd\n",
    "apps = pd.read_csv('apps-dados.csv')"
   ]
  },
  {
   "cell_type": "code",
   "execution_count": 129,
   "metadata": {},
   "outputs": [
    {
     "data": {
      "text/html": [
       "<div>\n",
       "<style scoped>\n",
       "    .dataframe tbody tr th:only-of-type {\n",
       "        vertical-align: middle;\n",
       "    }\n",
       "\n",
       "    .dataframe tbody tr th {\n",
       "        vertical-align: top;\n",
       "    }\n",
       "\n",
       "    .dataframe thead th {\n",
       "        text-align: right;\n",
       "    }\n",
       "</style>\n",
       "<table border=\"1\" class=\"dataframe\">\n",
       "  <thead>\n",
       "    <tr style=\"text-align: right;\">\n",
       "      <th></th>\n",
       "      <th>App Name</th>\n",
       "      <th>Category</th>\n",
       "      <th>Rating</th>\n",
       "      <th>Reviews</th>\n",
       "      <th>Installs</th>\n",
       "      <th>Size</th>\n",
       "      <th>Price</th>\n",
       "      <th>Content Rating</th>\n",
       "      <th>Last Updated</th>\n",
       "      <th>Minimum Version</th>\n",
       "      <th>Latest Version</th>\n",
       "    </tr>\n",
       "  </thead>\n",
       "  <tbody>\n",
       "    <tr>\n",
       "      <th>0</th>\n",
       "      <td>DoorDash - Food Delivery</td>\n",
       "      <td>FOOD_AND_DRINK</td>\n",
       "      <td>4.548562</td>\n",
       "      <td>305034</td>\n",
       "      <td>5,000,000+</td>\n",
       "      <td>Varies with device</td>\n",
       "      <td>0</td>\n",
       "      <td>Everyone</td>\n",
       "      <td>March 29, 2019</td>\n",
       "      <td>Varies with device</td>\n",
       "      <td>Varies with device</td>\n",
       "    </tr>\n",
       "    <tr>\n",
       "      <th>1</th>\n",
       "      <td>TripAdvisor Hotels Flights Restaurants Attract...</td>\n",
       "      <td>TRAVEL_AND_LOCAL</td>\n",
       "      <td>4.400671</td>\n",
       "      <td>1207922</td>\n",
       "      <td>100,000,000+</td>\n",
       "      <td>Varies with device</td>\n",
       "      <td>0</td>\n",
       "      <td>Everyone</td>\n",
       "      <td>March 29, 2019</td>\n",
       "      <td>Varies with device</td>\n",
       "      <td>Varies with device</td>\n",
       "    </tr>\n",
       "    <tr>\n",
       "      <th>2</th>\n",
       "      <td>Peapod</td>\n",
       "      <td>SHOPPING</td>\n",
       "      <td>3.656329</td>\n",
       "      <td>1967</td>\n",
       "      <td>100,000+</td>\n",
       "      <td>1.4M</td>\n",
       "      <td>0</td>\n",
       "      <td>Everyone</td>\n",
       "      <td>September 20, 2018</td>\n",
       "      <td>5.0 and up</td>\n",
       "      <td>2.2.0</td>\n",
       "    </tr>\n",
       "    <tr>\n",
       "      <th>3</th>\n",
       "      <td>foodpanda - Local Food Delivery</td>\n",
       "      <td>FOOD_AND_DRINK</td>\n",
       "      <td>4.107233</td>\n",
       "      <td>389154</td>\n",
       "      <td>10,000,000+</td>\n",
       "      <td>16M</td>\n",
       "      <td>0</td>\n",
       "      <td>Everyone</td>\n",
       "      <td>March 22, 2019</td>\n",
       "      <td>4.2 and up</td>\n",
       "      <td>4.18.2</td>\n",
       "    </tr>\n",
       "    <tr>\n",
       "      <th>4</th>\n",
       "      <td>My CookBook Pro (Ad Free)</td>\n",
       "      <td>FOOD_AND_DRINK</td>\n",
       "      <td>4.647752</td>\n",
       "      <td>2291</td>\n",
       "      <td>10,000+</td>\n",
       "      <td>Varies with device</td>\n",
       "      <td>$5.99</td>\n",
       "      <td>Everyone</td>\n",
       "      <td>April 1, 2019</td>\n",
       "      <td>Varies with device</td>\n",
       "      <td>Varies with device</td>\n",
       "    </tr>\n",
       "  </tbody>\n",
       "</table>\n",
       "</div>"
      ],
      "text/plain": [
       "                                            App Name          Category  \\\n",
       "0                           DoorDash - Food Delivery    FOOD_AND_DRINK   \n",
       "1  TripAdvisor Hotels Flights Restaurants Attract...  TRAVEL_AND_LOCAL   \n",
       "2                                             Peapod          SHOPPING   \n",
       "3                    foodpanda - Local Food Delivery    FOOD_AND_DRINK   \n",
       "4                          My CookBook Pro (Ad Free)    FOOD_AND_DRINK   \n",
       "\n",
       "     Rating  Reviews      Installs                Size  Price Content Rating  \\\n",
       "0  4.548562   305034    5,000,000+  Varies with device      0       Everyone   \n",
       "1  4.400671  1207922  100,000,000+  Varies with device      0       Everyone   \n",
       "2  3.656329     1967      100,000+                1.4M      0       Everyone   \n",
       "3  4.107233   389154   10,000,000+                 16M      0       Everyone   \n",
       "4  4.647752     2291       10,000+  Varies with device  $5.99       Everyone   \n",
       "\n",
       "         Last Updated     Minimum Version      Latest Version  \n",
       "0      March 29, 2019  Varies with device  Varies with device  \n",
       "1      March 29, 2019  Varies with device  Varies with device  \n",
       "2  September 20, 2018          5.0 and up               2.2.0  \n",
       "3      March 22, 2019          4.2 and up              4.18.2  \n",
       "4       April 1, 2019  Varies with device  Varies with device  "
      ]
     },
     "execution_count": 129,
     "metadata": {},
     "output_type": "execute_result"
    }
   ],
   "source": [
    "apps.head()"
   ]
  },
  {
   "cell_type": "markdown",
   "metadata": {},
   "source": [
    "Vamos criar uma função que recebe um índice e nos retorna os elementos 'presentes' nesse índice, ou seja, as informações de determinado aplicativo dado seu índice. Para isso, precisamos iterar sobre os elementos desse índice, ou seja, iterar sobre as colunas, e armazenar cada informação iterada. Sobre o armazenamento dessas informações, utilizaremos uma lista para guardarmos essas informações.\n",
    "Uma possível solução seria a seguinte:"
   ]
  },
  {
   "cell_type": "code",
   "execution_count": 130,
   "metadata": {},
   "outputs": [],
   "source": [
    "def info_app(indice):\n",
    "    infos = []\n",
    "    for col in apps.iloc[indice]:\n",
    "        infos.append(col)\n",
    "#     infos.append( apps.iloc[indice]['Rating'] )\n",
    "    return infos"
   ]
  },
  {
   "cell_type": "code",
   "execution_count": 131,
   "metadata": {
    "scrolled": true
   },
   "outputs": [
    {
     "name": "stdout",
     "output_type": "stream",
     "text": [
      "['foodpanda - Local Food Delivery', 'FOOD_AND_DRINK', 4.107232571, 389154, '10,000,000+', '16M', '0', 'Everyone', 'March 22, 2019', '4.2 and up', '4.18.2'] ['My CookBook Pro (Ad Free)', 'FOOD_AND_DRINK', 4.647752285, 2291, '10,000+', 'Varies with device', '$5.99', 'Everyone', 'April 1, 2019', 'Varies with device', 'Varies with device']\n"
     ]
    }
   ],
   "source": [
    "app_3 = info_app(3)\n",
    "app_4 = info_app(4)\n",
    "print(app_3, app_4)"
   ]
  },
  {
   "cell_type": "markdown",
   "metadata": {},
   "source": [
    "Para resolver o problema, utilizamos o `iloc`, que se baseia na posição de um inteiro para nos retornar as informações relacionadas (linha do dataset). Ou seja, utilizando o `iloc` e dado tal índice, temos acesso às informações mapeadas por esse índice. Mais informações nesse [link](https://medium.com/horadecodar/data-science-tips-02-como-usar-loc-e-iloc-no-pandas-fab58e214d87). "
   ]
  },
  {
   "cell_type": "markdown",
   "metadata": {},
   "source": [
    "#### Exercício\n",
    "2. Crie uma função que, dado o índice desejado, retorna apenas o nome e a quantidade de reviews desse aplicativo.\n",
    "\n",
    "**_DICA:_** Utilizando o `iloc` e dando o índice, temos acesso às colunas, por exemplo: `dataset.iloc[indice]['nome_coluna']` "
   ]
  },
  {
   "cell_type": "code",
   "execution_count": null,
   "metadata": {},
   "outputs": [],
   "source": []
  },
  {
   "cell_type": "markdown",
   "metadata": {},
   "source": [
    "## Exercitando a extração de valores\n",
    "Nós vimos como criar uma função que, dado o índice, nos é retornada uma sequência de informações sobre o aplicativo correspondente ao índice. Para praticar, vamos criar algo um pouco maior e mais interessante. Vamos verificar quantos aplicativos existem em cada categoria no dataset."
   ]
  },
  {
   "cell_type": "markdown",
   "metadata": {},
   "source": [
    "Vamos começar criando uma função genérica que nos retorna todos os itens presentes em uma determinada coluna:"
   ]
  },
  {
   "cell_type": "code",
   "execution_count": 132,
   "metadata": {},
   "outputs": [],
   "source": [
    "def itens_por_coluna(coluna):\n",
    "    itens = []\n",
    "    itens.append(apps.loc[:][coluna])\n",
    "    return itens\n",
    "\n",
    "def ocorrencias(itens):\n",
    "    resp = {}\n",
    "    for item in itens:\n",
    "        if item  in itens:\n",
    "            resp[item] += 1\n",
    "        else:\n",
    "            resp[item] = 1\n",
    "#         print(type(item))\n",
    "    return resp"
   ]
  },
  {
   "cell_type": "code",
   "execution_count": 133,
   "metadata": {},
   "outputs": [
    {
     "ename": "TypeError",
     "evalue": "'Series' objects are mutable, thus they cannot be hashed",
     "output_type": "error",
     "traceback": [
      "\u001b[0;31m---------------------------------------------------------------------------\u001b[0m",
      "\u001b[0;31mTypeError\u001b[0m                                 Traceback (most recent call last)",
      "\u001b[0;32m<ipython-input-133-9ef32202414c>\u001b[0m in \u001b[0;36m<module>\u001b[0;34m\u001b[0m\n\u001b[1;32m      1\u001b[0m \u001b[0mcategorias\u001b[0m \u001b[0;34m=\u001b[0m \u001b[0mitens_por_coluna\u001b[0m\u001b[0;34m(\u001b[0m\u001b[0;34m'Category'\u001b[0m\u001b[0;34m)\u001b[0m\u001b[0;34m\u001b[0m\u001b[0;34m\u001b[0m\u001b[0m\n\u001b[0;32m----> 2\u001b[0;31m \u001b[0mocorrencias_por_categorias\u001b[0m \u001b[0;34m=\u001b[0m \u001b[0mocorrencias\u001b[0m\u001b[0;34m(\u001b[0m\u001b[0mcategorias\u001b[0m\u001b[0;34m)\u001b[0m\u001b[0;34m\u001b[0m\u001b[0;34m\u001b[0m\u001b[0m\n\u001b[0m",
      "\u001b[0;32m<ipython-input-132-db896062cb74>\u001b[0m in \u001b[0;36mocorrencias\u001b[0;34m(itens)\u001b[0m\n\u001b[1;32m      8\u001b[0m     \u001b[0;32mfor\u001b[0m \u001b[0mitem\u001b[0m \u001b[0;32min\u001b[0m \u001b[0mitens\u001b[0m\u001b[0;34m:\u001b[0m\u001b[0;34m\u001b[0m\u001b[0;34m\u001b[0m\u001b[0m\n\u001b[1;32m      9\u001b[0m         \u001b[0;32mif\u001b[0m \u001b[0mitem\u001b[0m  \u001b[0;32min\u001b[0m \u001b[0mitens\u001b[0m\u001b[0;34m:\u001b[0m\u001b[0;34m\u001b[0m\u001b[0;34m\u001b[0m\u001b[0m\n\u001b[0;32m---> 10\u001b[0;31m             \u001b[0mresp\u001b[0m\u001b[0;34m[\u001b[0m\u001b[0mitem\u001b[0m\u001b[0;34m]\u001b[0m \u001b[0;34m+=\u001b[0m \u001b[0;36m1\u001b[0m\u001b[0;34m\u001b[0m\u001b[0;34m\u001b[0m\u001b[0m\n\u001b[0m\u001b[1;32m     11\u001b[0m         \u001b[0;32melse\u001b[0m\u001b[0;34m:\u001b[0m\u001b[0;34m\u001b[0m\u001b[0;34m\u001b[0m\u001b[0m\n\u001b[1;32m     12\u001b[0m             \u001b[0mresp\u001b[0m\u001b[0;34m[\u001b[0m\u001b[0mitem\u001b[0m\u001b[0;34m]\u001b[0m \u001b[0;34m=\u001b[0m \u001b[0;36m1\u001b[0m\u001b[0;34m\u001b[0m\u001b[0;34m\u001b[0m\u001b[0m\n",
      "\u001b[0;32m~/.local/lib/python3.6/site-packages/pandas/core/generic.py\u001b[0m in \u001b[0;36m__hash__\u001b[0;34m(self)\u001b[0m\n\u001b[1;32m   1814\u001b[0m     \u001b[0;32mdef\u001b[0m \u001b[0m__hash__\u001b[0m\u001b[0;34m(\u001b[0m\u001b[0mself\u001b[0m\u001b[0;34m)\u001b[0m\u001b[0;34m:\u001b[0m\u001b[0;34m\u001b[0m\u001b[0;34m\u001b[0m\u001b[0m\n\u001b[1;32m   1815\u001b[0m         raise TypeError('{0!r} objects are mutable, thus they cannot be'\n\u001b[0;32m-> 1816\u001b[0;31m                         ' hashed'.format(self.__class__.__name__))\n\u001b[0m\u001b[1;32m   1817\u001b[0m \u001b[0;34m\u001b[0m\u001b[0m\n\u001b[1;32m   1818\u001b[0m     \u001b[0;32mdef\u001b[0m \u001b[0m__iter__\u001b[0m\u001b[0;34m(\u001b[0m\u001b[0mself\u001b[0m\u001b[0;34m)\u001b[0m\u001b[0;34m:\u001b[0m\u001b[0;34m\u001b[0m\u001b[0;34m\u001b[0m\u001b[0m\n",
      "\u001b[0;31mTypeError\u001b[0m: 'Series' objects are mutable, thus they cannot be hashed"
     ]
    }
   ],
   "source": [
    "categorias = itens_por_coluna('Category')\n",
    "ocorrencias_por_categorias = ocorrencias(categorias)"
   ]
  },
  {
   "cell_type": "code",
   "execution_count": null,
   "metadata": {},
   "outputs": [],
   "source": []
  }
 ],
 "metadata": {
  "kernelspec": {
   "display_name": "Python 3",
   "language": "python",
   "name": "python3"
  },
  "language_info": {
   "codemirror_mode": {
    "name": "ipython",
    "version": 3
   },
   "file_extension": ".py",
   "mimetype": "text/x-python",
   "name": "python",
   "nbconvert_exporter": "python",
   "pygments_lexer": "ipython3",
   "version": "3.6.7"
  }
 },
 "nbformat": 4,
 "nbformat_minor": 2
}
