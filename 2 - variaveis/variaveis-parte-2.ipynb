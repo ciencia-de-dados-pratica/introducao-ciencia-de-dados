{
 "cells": [
  {
   "cell_type": "markdown",
   "metadata": {},
   "source": [
    "# Python para Ciência de Dados - Trabalhando com variáveis - 2"
   ]
  },
  {
   "cell_type": "markdown",
   "metadata": {},
   "source": [
    "## Atualizando variáveis\n",
    "Após declararmos uma variável, às vezes há a necessidade de atualizar o valor armazenado nela. Para isso, basta reatribuir um novo valor para a variável:\n",
    "```python\n",
    "idade = 10\n",
    "print(idade) #10\n",
    "idade = 20\n",
    "print(idade) #20\n",
    "```\n",
    "Além disso, é possível (e muito recorrente) utilizar o valor da própria variável para atualizá-la:\n",
    "```python\n",
    "quantidade_pessoas = 15\n",
    "print(quantidade_pessoas) #15\n",
    "quantidade_pessoas = quantidade_pessoas + 5\n",
    "print(quantidade_pessoas) #20\n",
    "# A variável chamada quantidade_pessoas será atualizada recebendo seu valor anterior (15) somado com 5\n",
    "```"
   ]
  },
  {
   "cell_type": "markdown",
   "metadata": {},
   "source": [
    "#### Exercício\n",
    "1. Crie uma variável chamada `quantidade`, dê a ela o valor de `30`. Em seguida, adicione `10` à essa variável e imprima o valor de `quantidade`."
   ]
  },
  {
   "cell_type": "code",
   "execution_count": null,
   "metadata": {},
   "outputs": [],
   "source": []
  },
  {
   "cell_type": "markdown",
   "metadata": {},
   "source": [
    "## Alguns atalhos\n",
    "Existem alguns atalhos que nos ajudam na atualização do valor de uma variável. Por exemplo, podemos escrever o código `a = a + 2`, assim como podemos simplificar ele e escrevermos `a += 2`. Desse modo, temos uma instrução simplificada que diz que `a` receberá ele mesmo somado a `2`.\n",
    "Porém, esse não é o único atalho, temos simplificações para as operações matemáticas simples como subtração, multiplicação, divisão, potenciação e claro, soma:\n",
    "```python\n",
    "# Soma\n",
    "x = 2\n",
    "x += 1\n",
    "print(x) #3\n",
    "\n",
    "# Subtração\n",
    "x = 10\n",
    "x -= 5\n",
    "print(x) #5\n",
    "\n",
    "# Multiplicação\n",
    "x = 4\n",
    "x *= 3\n",
    "print(x) #12\n",
    "\n",
    "# Divisão\n",
    "x = 20\n",
    "x /= 5\n",
    "print(x) #4\n",
    "\n",
    "# Potência\n",
    "x = 5\n",
    "x **= 2\n",
    "print(x) #25\n",
    "```"
   ]
  },
  {
   "cell_type": "markdown",
   "metadata": {},
   "source": [
    "#### Exercício\n",
    "2. Crie uma variável chamada `y`, dê o valor `20` para ela. Em seguida, utilizando os atalhos vistos, adicione `10` à variável e depois atualize o valor seu valor a dividindo por `5`. Por fim, imprima o valor resultante."
   ]
  },
  {
   "cell_type": "code",
   "execution_count": null,
   "metadata": {},
   "outputs": [],
   "source": []
  },
  {
   "cell_type": "markdown",
   "metadata": {},
   "source": [
    "## Valores decimais\n",
    "Até agora, realizamos todas as operações com valores inteiros. Porém, podemos utilizar valores decimais, também conhecidos como _pontos flutuantes ou float_. Por exemplo, a altura de uma pessoa pode ser representada assim:\n",
    "```python\n",
    "altura = 1.89\n",
    "```\n",
    "\n",
    "Assim como em matemática, números inteiros são diferentes dos valores decimais. Em Python, podemos ver a diferença entre esses tipos utilizando o comando `type()`, esse comando vai nos retornar com que tipo de dado estamos trabalhando:\n",
    "```python\n",
    "print(type(10)) #int\n",
    "print(type(1.89)) #float\n",
    "```\n",
    "\n",
    "Através dos diferentes tipos de dados que utilizamos, o computador saberá como armazenar esse dado em memória e como trabalhar com ele em operação matemáticas por exemplo. Porém, não estamos limitados a trabalhar com a interação de apenas um tipo de dados, assim como realizamos a soma de dois inteiros, podemos somar um inteiro com um decimal.\n",
    "```python\n",
    "print(4 + 3.7) #7.7\n",
    "print(2.2 * 3) #6.6\n",
    "```"
   ]
  },
  {
   "cell_type": "markdown",
   "metadata": {},
   "source": [
    "#### Exercício\n",
    "3. Crie uma variável chamada `peso` que terá o valor inicial `50`. Utilizando os atalhos vistos anteriormente, atualize o valor da variável somando a ela o número decimal `10.56`. Em seguida, imprima o valor resultante."
   ]
  },
  {
   "cell_type": "code",
   "execution_count": null,
   "metadata": {},
   "outputs": [],
   "source": []
  }
 ],
 "metadata": {
  "kernelspec": {
   "display_name": "Python 3",
   "language": "python",
   "name": "python3"
  },
  "language_info": {
   "codemirror_mode": {
    "name": "ipython",
    "version": 3
   },
   "file_extension": ".py",
   "mimetype": "text/x-python",
   "name": "python",
   "nbconvert_exporter": "python",
   "pygments_lexer": "ipython3",
   "version": "3.7.3"
  }
 },
 "nbformat": 4,
 "nbformat_minor": 2
}
