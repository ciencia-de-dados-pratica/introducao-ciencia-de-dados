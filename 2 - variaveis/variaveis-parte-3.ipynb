{
 "cells": [
  {
   "cell_type": "markdown",
   "metadata": {},
   "source": [
    "# Python para Ciência de Dados - Trabalhando com variáveis - 3"
   ]
  },
  {
   "cell_type": "markdown",
   "metadata": {},
   "source": [
    "## Conversão de valores\n",
    "\n",
    "Anteriormente, você viu que podemos trabalhar com os tipos de dados _inteiro_ e _decimal_. Podemos também converter um valor para o tipo de dado que queremos, por exemplo, podemos transformar um inteiro em decimal e vice-versa. Para isso, basta colocar o comando `float()` ou o comando `int()`:\n",
    "```python\n",
    "float(77) #77.0\n",
    "int(10.8) #10\n",
    "```\n",
    "\n",
    "Bem útil não? Porém, ao colocarmos o comando `int(10.8)` ele arredondou o valor para baixo. Para resolvermos esse problema, podemos utilizar o comando `round()` e de fato arredondarmos o valor:\n",
    "```python\n",
    "round(10.8) #11\n",
    "round(10.1) #10\n",
    "round(10.5) #10\n",
    "```\n",
    "\n",
    "É possível utilizar o aninhamento de comandos, por exemplo, imprimir o resultado do arredondamento:\n",
    "```python\n",
    "print(round(9.99)) #10\n",
    "```\n",
    "\n",
    "Note que podemos inserir variáveis nos comandos anteriormente vistos, porém estes não alteram o resultado da variável em questão:\n",
    "```python\n",
    "media = 6.99\n",
    "print(round(media)) #7\n",
    "print(media) #6.99\n",
    "```"
   ]
  },
  {
   "cell_type": "markdown",
   "metadata": {},
   "source": [
    "#### Exercício\n",
    "1. Declare uma variável `x` com valor `7.8` e uma outra variável chamada `y` com o valor `4.6`. Crie uma terceira variável chamada `resultado` que receberá a soma do arredondamento de `x` com a conversão inteira de `y`. Por fim, imprima a variável resultado."
   ]
  },
  {
   "cell_type": "code",
   "execution_count": null,
   "metadata": {},
   "outputs": [],
   "source": []
  },
  {
   "cell_type": "markdown",
   "metadata": {},
   "source": [
    "## Tipo texto\n",
    "\n",
    "Não temos apenas os tipos de dados numéricos para serem trabalhados. Em Python, podemos atribuir um texto à uma variável utilizando aspas simples ou duplas:\n",
    "```python\n",
    "planeta_um = \"Terra\"\n",
    "planeta_dois = 'Marte'\n",
    "```\n",
    "\n",
    "Chamamos essa sequência de caracteres de _string_. Uma variável que guarda um texto possui o tipo `str`:\n",
    "```python\n",
    "planeta_tres = 'Júpiter'\n",
    "type(planeta_tres) #str\n",
    "```\n",
    "\n",
    "Quando trabalhamos com strings, não nos limitados a usar apenas letras, podemos utilizar também números, espaços ou caracteres especiais:\n",
    "```python\n",
    "info = 'Júpiter é composto principalmente de hidrogênio, sendo 1/4 de sua massa composta de hélio, embora o hélio corresponda a apenas um décimo do número total de moléculas.'\n",
    "```"
   ]
  },
  {
   "cell_type": "markdown",
   "metadata": {},
   "source": [
    "#### Exercício\n",
    "2. Vamos listar os atributos de uma pessoa. Crie uma variável `nome` e atribua seu nome à ela. Em seguida, crie uma variável `idade` e atribua sua idade por meio de uma _string_. Por fim, imprima as duas variáveis criadas."
   ]
  },
  {
   "cell_type": "code",
   "execution_count": null,
   "metadata": {},
   "outputs": [],
   "source": []
  },
  {
   "cell_type": "markdown",
   "metadata": {},
   "source": [
    "## Aspas simples e duplas\n",
    "\n",
    "Por vezes, há a necessidade de inserir aspas simples no meio da string. Por exemplo, como inserir o texto `Only the Earth's moon and Venus are brighter.`? Se tentarmos inserir esse texto numa variável utilizando aspas simples, nos depararemos com um erro de sintaxe:"
   ]
  },
  {
   "cell_type": "code",
   "execution_count": 2,
   "metadata": {},
   "outputs": [
    {
     "ename": "SyntaxError",
     "evalue": "invalid syntax (<ipython-input-2-8180cc34774c>, line 1)",
     "output_type": "error",
     "traceback": [
      "\u001b[0;36m  File \u001b[0;32m\"<ipython-input-2-8180cc34774c>\"\u001b[0;36m, line \u001b[0;32m1\u001b[0m\n\u001b[0;31m    frase = 'Only the Earth's moon and Venus are brighter.'\u001b[0m\n\u001b[0m                            ^\u001b[0m\n\u001b[0;31mSyntaxError\u001b[0m\u001b[0;31m:\u001b[0m invalid syntax\n"
     ]
    }
   ],
   "source": [
    "frase = 'Only the Earth's moon and Venus are brighter.'"
   ]
  },
  {
   "cell_type": "markdown",
   "metadata": {},
   "source": [
    "O mesmo aconteceria se você tentasse declarar uma variável com uma string que possui aspas duplas usando aspas duplas. Para resolvermos esse problema, podemos utilizar duas estratégias:\n",
    "- Envolver a string que possui aspas simples com aspas duplas:\n",
    "```python\n",
    "frase = \"Only the Earth's moon and Venus are brighter.\"\n",
    "```\n",
    "- Cancelar o efeito das aspas simples no frase utilizando o caractere `\\`:\n",
    "```python\n",
    "frase = 'Only the Earth\\'s moon and Venus are brighter.'\n",
    "```"
   ]
  },
  {
   "cell_type": "markdown",
   "metadata": {},
   "source": [
    "#### Exercício\n",
    "3. Elabore uma forma de atribuir à variável `fala` o texto _`O astronauta disse: \"Um pequeno ' passo para o homem, mas um grande passo para a humanidade.\"`_. Em seguida, imprima a frase."
   ]
  },
  {
   "cell_type": "code",
   "execution_count": null,
   "metadata": {},
   "outputs": [],
   "source": []
  }
 ],
 "metadata": {
  "kernelspec": {
   "display_name": "Python 3",
   "language": "python",
   "name": "python3"
  },
  "language_info": {
   "codemirror_mode": {
    "name": "ipython",
    "version": 3
   },
   "file_extension": ".py",
   "mimetype": "text/x-python",
   "name": "python",
   "nbconvert_exporter": "python",
   "pygments_lexer": "ipython3",
   "version": "3.7.3"
  }
 },
 "nbformat": 4,
 "nbformat_minor": 2
}
