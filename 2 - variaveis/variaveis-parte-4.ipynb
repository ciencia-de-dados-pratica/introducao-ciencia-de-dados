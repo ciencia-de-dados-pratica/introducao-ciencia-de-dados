{
 "cells": [
  {
   "cell_type": "markdown",
   "metadata": {},
   "source": [
    "# Python para Ciência de Dados - Trabalhando com variáveis - 4"
   ]
  },
  {
   "cell_type": "markdown",
   "metadata": {},
   "source": [
    "## Operações com strings\n",
    "\n",
    "Assim como fazemos algumas operações com os valores numéricos, podemos operar algumas strings:\n",
    "- Unir o valor de duas strings (concatenação)\n",
    "```python\n",
    "print('x' + 'y') #xy\n",
    "print('x' + ' e ' + 'y') #x e y\n",
    "```\n",
    "- Contatenar com as cópias da mesma string\n",
    "```python\n",
    "print('batata' * 3) #batatabatatabatata\n",
    "```\n",
    "    - OBS: A única operação em que concatenamos cópias de uma mesma string é quando usamos o operador `*`, em outros casos nós recebemos uma mensagem de erro\n",
    "\n",
    "\n",
    "Assim como fazíamos as conversões de valores inteiros em decimais (e vice-versa), em alguns casos podemos transformar uma string em um número e vice-versa:\n",
    "```python\n",
    "print(int('9') + 1) #10\n",
    "print(float('9.9') + 2) #11.9\n",
    "print(str(4)) #4\n",
    "```\n",
    "\n",
    "Além de termos uma string de apenas uma linha, podemos criar uma com múltiplas linhas utilizando o a simbologia `'''` ou `\"\"\"`:\n",
    "```python\n",
    "frase = '''\n",
    "Essa é uma frase \n",
    "com mais de \n",
    "uma linha.\n",
    "'''\n",
    "```\n",
    "Ao usarmos as três aspas, estamos livres para usar aspas duplas dentro da string."
   ]
  },
  {
   "cell_type": "markdown",
   "metadata": {},
   "source": [
    "#### Exercício\n",
    "1. Crie e atribua à variável `txt` a string `Frase' com aspas`. Depois, crie uma segunda variável `num` com o valor `2.5`. Por fim, converta `num` para string e concatene com a variável `txt`, o resultado deve ser guardado na variável `result`."
   ]
  },
  {
   "cell_type": "code",
   "execution_count": null,
   "metadata": {},
   "outputs": [],
   "source": []
  }
 ],
 "metadata": {
  "kernelspec": {
   "display_name": "Python 3",
   "language": "python",
   "name": "python3"
  },
  "language_info": {
   "codemirror_mode": {
    "name": "ipython",
    "version": 3
   },
   "file_extension": ".py",
   "mimetype": "text/x-python",
   "name": "python",
   "nbconvert_exporter": "python",
   "pygments_lexer": "ipython3",
   "version": "3.7.3"
  }
 },
 "nbformat": 4,
 "nbformat_minor": 2
}
