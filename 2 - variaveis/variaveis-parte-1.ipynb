{
 "cells": [
  {
   "cell_type": "markdown",
   "metadata": {},
   "source": [
    "# Python para Ciência de Dados - Trabalhando com variáveis - 1"
   ]
  },
  {
   "cell_type": "markdown",
   "metadata": {},
   "source": [
    "Anteriormente, você deve ter aprendido o básico de Python, alguns comandos básicos e operações aritiméticas. Agora, vamos nos aprofundar no armazenamento e trabalho com dados dos tipos numéricos e textuais. "
   ]
  },
  {
   "cell_type": "markdown",
   "metadata": {},
   "source": [
    "## Variáveis\n",
    "\n",
    "Em programação, ... por isso, é interessante possuírmos um espaço em memória para guardarmos essas informações para que elas sejam usadas futuramente. Para isso, utilizamos **variáveis** para armazenar esses valores.\n",
    "\n",
    "O uso de variáveis em Python é trivial e bem simples. Por exemplo, esse é o código que precisamos para armazenar o múmero `10` na variável `valor`:\n",
    "```python\n",
    "valor = 10\n",
    "```\n",
    "\n",
    "Além de atribuíções simples, podemos dizer que uma variável armazenará o resultado de operações matemáticas, como as vistas anteriormente:\n",
    "```python\n",
    "operacao = (10-5) * 7\n",
    "```"
   ]
  },
  {
   "cell_type": "markdown",
   "metadata": {},
   "source": [
    "#### Exercício\n",
    "1. Crie uma variável chamada _resultado_ que armazenará o resultado da operação `(15-10+6)*13`. Em seguida, imprima seu o valor da variável criada."
   ]
  },
  {
   "cell_type": "code",
   "execution_count": 3,
   "metadata": {},
   "outputs": [
    {
     "name": "stdout",
     "output_type": "stream",
     "text": [
      "143\n"
     ]
    }
   ],
   "source": [
    "#exercicio_1\n",
    "resultado = (15-10+6)*13\n",
    "print(resultado)"
   ]
  },
  {
   "cell_type": "markdown",
   "metadata": {},
   "source": [
    "\n",
    "\n",
    "\n",
    "## Mais operações\n",
    "\n",
    "Tudo bem, nós sabemos como armazenar um valor em uma variável, mas como isso acontece?\n",
    "Bem, quando inserímos a instrução `resultado = (15-10+6)*13`, o que o computador faz é armazenar o valor referente à `resultado` em um local específico da memória. Esse local específico na memória possui um identificador escolhido por nós, o nome da **variável**. Por isso que ao inserirmos a instrução `print(resultado)`, estamos buscando por meio do seu identificador, o valor armazenado."
   ]
  },
  {
   "cell_type": "markdown",
   "metadata": {},
   "source": [
    "#### Exercício\n",
    "2. Crie uma variável chamada `num` e atribua à ela o valor `100`. Em seguida, crie mais uma variável chamada `resultado_da_operacao` que receberá o valor resultante de `(15+5)/2`. Por fim, mostre usando o comando `print` a soma dessas duas varáveis criadas.\n"
   ]
  },
  {
   "cell_type": "code",
   "execution_count": null,
   "metadata": {},
   "outputs": [],
   "source": [
    "#exercicio_2\n",
    "num = 100\n",
    "resultado_da_operacao = (15+5)/2\n",
    "print(num + resultado_da_operacao)"
   ]
  },
  {
   "cell_type": "markdown",
   "metadata": {},
   "source": [
    "\n",
    "\n",
    "\n",
    "## Alguns cuidados\n",
    "\n",
    "Estamos livres para escolhermos o nome de uma determinada variável, porém há alguns cuidados que devemos ter ao nomear variáveis. Por exemplo, ao criar uma variável chamada `Meu Numero` e atribuir a ela o valor `5`, você receberá uma mensagem de _erro_ identificando um erro de sintaxe."
   ]
  },
  {
   "cell_type": "code",
   "execution_count": 4,
   "metadata": {},
   "outputs": [
    {
     "ename": "SyntaxError",
     "evalue": "invalid syntax (<ipython-input-4-ca60c58bba3a>, line 1)",
     "output_type": "error",
     "traceback": [
      "\u001b[0;36m  File \u001b[0;32m\"<ipython-input-4-ca60c58bba3a>\"\u001b[0;36m, line \u001b[0;32m1\u001b[0m\n\u001b[0;31m    Meu Numero = 5\u001b[0m\n\u001b[0m             ^\u001b[0m\n\u001b[0;31mSyntaxError\u001b[0m\u001b[0;31m:\u001b[0m invalid syntax\n"
     ]
    }
   ],
   "source": [
    "Meu Numero = 5"
   ]
  },
  {
   "cell_type": "markdown",
   "metadata": {},
   "source": [
    "Recebemos esse erro pois no meio do nome da variável, ha um espaço. Pode parecer um pequeno detalhe, mas para organizar o nome das variáveis, é necessário seguir apenas duas regras:\n",
    "    - Usar apenas letras, números e underlines (nada de caracteres especiais);\n",
    "    - Variáveis não podem iniciar com números;\n",
    "    \n",
    "\n",
    "A seguir, temos alguns exemplos de nomes de variáveis aceitos e não aceitos:\n",
    "\n",
    "`meu_nome_completo` ✔️\n",
    "\n",
    "`meu nome completo` ❌ (possui espaço)\n",
    "\n",
    "`numero_1` ✔️\n",
    "\n",
    "`1_numero` ❌ (inicia com um número)\n",
    "\n",
    "`dinheiro` ✔️\n",
    "\n",
    "`dinheiro_$` ❌ (possui o caractere inválido _$_)"
   ]
  },
  {
   "cell_type": "markdown",
   "metadata": {},
   "source": [
    "#### Exercício\n",
    "3. O código a seguir possui algumas falhas nos nomes das variáveis. Altere os nomes das variáveis para que tenhamos o resultado esperado:\n",
    "```python\n",
    "primeiro--valor = 7\n",
    "2_valor = 9\n",
    "print(primeiro--valor + 2_valor)\n",
    "```"
   ]
  },
  {
   "cell_type": "code",
   "execution_count": null,
   "metadata": {},
   "outputs": [],
   "source": []
  }
 ],
 "metadata": {
  "kernelspec": {
   "display_name": "Python 3",
   "language": "python",
   "name": "python3"
  },
  "language_info": {
   "codemirror_mode": {
    "name": "ipython",
    "version": 3
   },
   "file_extension": ".py",
   "mimetype": "text/x-python",
   "name": "python",
   "nbconvert_exporter": "python",
   "pygments_lexer": "ipython3",
   "version": "3.7.3"
  }
 },
 "nbformat": 4,
 "nbformat_minor": 2
}
