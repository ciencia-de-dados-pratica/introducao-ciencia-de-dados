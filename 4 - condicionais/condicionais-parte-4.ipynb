{
 "cells": [
  {
   "cell_type": "markdown",
   "metadata": {},
   "source": [
    "# Python para Ciência de Dados - Condicionais - Parte 4"
   ]
  },
  {
   "cell_type": "markdown",
   "metadata": {},
   "source": [
    "## Caso contrário\n",
    "Digamos que ao analisarmos os dados dos artistas, queremos separar os artistas que são Surrealistas _ou_ Expressionistas dos outros artistas, salvando eles em listas diferentes. Nós já sabemos como fazer algo acontecer se determinada condição for verdadeira (usando o `if`), mas como fazer com que outro código seja executado se a condição for falsa? Para isso, podemos utilizar o `else`(caso contrário)."
   ]
  },
  {
   "cell_type": "code",
   "execution_count": 7,
   "metadata": {},
   "outputs": [],
   "source": [
    "import pandas as pd\n",
    "artistas = pd.read_csv('artistas.csv')"
   ]
  },
  {
   "cell_type": "code",
   "execution_count": 8,
   "metadata": {},
   "outputs": [
    {
     "name": "stdout",
     "output_type": "stream",
     "text": [
      "Artistas Surrealistas ou Expressionistas:\n",
      "\n",
      "['Amedeo Modigliani', 'Vasiliy Kandinskiy', 'Rene Magritte', 'Salvador Dali', 'Paul Klee', 'Joan Miro']\n",
      "\n",
      "Demais artistas:\n",
      "\n",
      "['Diego Rivera', 'Claude Monet', 'Edouard Manet', 'Andrei Rublev', 'Vincent van Gogh', 'Gustav Klimt', 'Hieronymus Bosch', 'Kazimir Malevich', 'Mikhail Vrubel', 'Pablo Picasso', 'Peter Paul Rubens', 'Pierre-Auguste Renoir', 'Francisco Goya', 'Frida Kahlo', 'El Greco', 'Albrecht Dürer', 'Alfred Sisley', 'Pieter Bruegel', 'Marc Chagall', 'Giotto di Bondone', 'Sandro Botticelli', 'Caravaggio', 'Leonardo da Vinci', 'Diego Velazquez', 'Henri Matisse', 'Jan van Eyck', 'Edgar Degas', 'Rembrandt', 'Titian', 'Henri de Toulouse-Lautrec', 'Gustave Courbet', 'Camille Pissarro', 'William Turner', 'Edvard Munch', 'Paul Cezanne', 'Eugene Delacroix', 'Henri Rousseau', 'Georges Seurat', 'Piet Mondrian', 'Andy Warhol', 'Paul Gauguin', 'Raphael', 'Michelangelo', 'Jackson Pollock']\n"
     ]
    }
   ],
   "source": [
    "artistas_parte_1 = []\n",
    "artistas_parte_2 = []\n",
    "\n",
    "for indice, coluna in artistas.iterrows():\n",
    "    if coluna[\"genre\"] == 'Surrealism' or coluna[\"genre\"] == 'Expressionism':\n",
    "        artistas_parte_1.append(coluna[\"name\"])\n",
    "    else:\n",
    "        artistas_parte_2.append(coluna[\"name\"])\n",
    "\n",
    "print(\"Artistas Surrealistas ou Expressionistas:\\n\")\n",
    "print(artistas_parte_1)\n",
    "print(\"\\nDemais artistas:\\n\")\n",
    "print(artistas_parte_2)"
   ]
  },
  {
   "cell_type": "markdown",
   "metadata": {},
   "source": [
    "#### Exercício\n",
    "1. Itere sobre os dados dos artistas e salve a quantidade de artistas que franceses na variável `franceses` e salve a quantidade dos demais artistas na variável `outros`. Por fim imprima o valor das duas variáveis;"
   ]
  },
  {
   "cell_type": "code",
   "execution_count": null,
   "metadata": {},
   "outputs": [],
   "source": []
  },
  {
   "cell_type": "markdown",
   "metadata": {},
   "source": [
    "## Elif\n",
    "Nós sabemos como verificar se uma determinada condição é verdadeira, se ela for executamos tal trecho de código, e utilizando o `else` conseguimos fazer com que seja executado outro trecho de código se a condição for falsa. Mas e se nós quiséssemos realizar uma série de verificações? Poderíamos utilizar uma série de `ifs` para resolver nosso problema, mas teríamos um outro pequeno problema. Olhe a seguir:\n",
    "\n",
    "\n",
    "Imagine que nós desejamos saber a quantidade de artistas franceses, espanhóis e italianos. Uma primeira solução seria a seguinte:"
   ]
  },
  {
   "cell_type": "code",
   "execution_count": 14,
   "metadata": {},
   "outputs": [
    {
     "name": "stdout",
     "output_type": "stream",
     "text": [
      "Artistas franceses: 13\n",
      "Artistas espanhóis: 5\n",
      "Artistas italianos: 8\n"
     ]
    }
   ],
   "source": [
    "franceses = 0\n",
    "espanhois = 0\n",
    "italianos = 0\n",
    "\n",
    "for indice, coluna in artistas.iterrows():\n",
    "    if coluna[\"nationality\"] == 'French':\n",
    "        franceses += 1\n",
    "    if coluna[\"nationality\"] == 'Spanish':\n",
    "        espanhois += 1\n",
    "    if coluna[\"nationality\"] == 'Italian':\n",
    "        italianos += 1\n",
    "        \n",
    "print(\"Artistas franceses:\", franceses)\n",
    "print(\"Artistas espanhóis:\", espanhois)\n",
    "print(\"Artistas italianos:\", italianos)"
   ]
  },
  {
   "cell_type": "markdown",
   "metadata": {},
   "source": [
    "A solução está correta, mas nós temos um pequeno problema nela. Se o artista em questão passar na primeira condição (ele for francês), esse artista ainda será verificado pelais demais estruturas condicionais. Nós precisamos de alguma maneira de fazer com que os demais _ifs_ não sejam verificados se o resultado do _if_ anterior tiver sido verdade. Para isso utilizamos o `elif`:"
   ]
  },
  {
   "cell_type": "code",
   "execution_count": 15,
   "metadata": {},
   "outputs": [
    {
     "name": "stdout",
     "output_type": "stream",
     "text": [
      "Artistas franceses: 13\n",
      "Artistas espanhóis: 5\n",
      "Artistas italianos: 8\n"
     ]
    }
   ],
   "source": [
    "franceses = 0\n",
    "espanhois = 0\n",
    "italianos = 0\n",
    "\n",
    "for indice, coluna in artistas.iterrows():\n",
    "    if coluna[\"nationality\"] == 'French':\n",
    "        franceses += 1\n",
    "    elif coluna[\"nationality\"] == 'Spanish':\n",
    "        espanhois += 1\n",
    "    elif coluna[\"nationality\"] == 'Italian':\n",
    "        italianos += 1\n",
    "        \n",
    "print(\"Artistas franceses:\", franceses)\n",
    "print(\"Artistas espanhóis:\", espanhois)\n",
    "print(\"Artistas italianos:\", italianos)"
   ]
  },
  {
   "cell_type": "markdown",
   "metadata": {},
   "source": [
    "O resulyado é o mesmo, porém o problema foi resolvido de maneira mais eficiente.\n",
    "\n",
    "_OBS:_ O primeiro `elif` sempre deve ficar \"abaixo\" de um `if`, caso contrário teremos um erro de sintaxe:"
   ]
  },
  {
   "cell_type": "code",
   "execution_count": 17,
   "metadata": {
    "scrolled": true
   },
   "outputs": [
    {
     "ename": "SyntaxError",
     "evalue": "invalid syntax (<ipython-input-17-7a5f7d015f2e>, line 1)",
     "output_type": "error",
     "traceback": [
      "\u001b[0;36m  File \u001b[0;32m\"<ipython-input-17-7a5f7d015f2e>\"\u001b[0;36m, line \u001b[0;32m1\u001b[0m\n\u001b[0;31m    elif:\u001b[0m\n\u001b[0m       ^\u001b[0m\n\u001b[0;31mSyntaxError\u001b[0m\u001b[0;31m:\u001b[0m invalid syntax\n"
     ]
    }
   ],
   "source": [
    "elif:\n",
    "    (print(1))"
   ]
  },
  {
   "cell_type": "markdown",
   "metadata": {},
   "source": [
    "#### Exercício\n",
    "2. Itere sobre os dados dos artistas e armazene na variável `a` a quantidade de artistas que possuem no máximo 70 obras, na variável `b` você vai armazenar a quantidade de artistas com mais de 70 e menos de 150 obras e por fim, na variável `c`, você vai armazenar a quantidade de artistas com pelo menos 150 obras."
   ]
  },
  {
   "cell_type": "code",
   "execution_count": null,
   "metadata": {},
   "outputs": [],
   "source": []
  },
  {
   "cell_type": "markdown",
   "metadata": {},
   "source": [
    "## Resumo\n",
    "Em resumo, nesse módulo, nós vimos as estruturas condicionais (`if`, `elif` e `else`) e os operadores de comparação (`==`, `!=`, `>`, `>=`, `<` e `<=`)."
   ]
  }
 ],
 "metadata": {
  "kernelspec": {
   "display_name": "Python 3",
   "language": "python",
   "name": "python3"
  },
  "language_info": {
   "codemirror_mode": {
    "name": "ipython",
    "version": 3
   },
   "file_extension": ".py",
   "mimetype": "text/x-python",
   "name": "python",
   "nbconvert_exporter": "python",
   "pygments_lexer": "ipython3",
   "version": "3.7.3"
  }
 },
 "nbformat": 4,
 "nbformat_minor": 2
}
