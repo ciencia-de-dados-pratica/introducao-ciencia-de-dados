{
 "cells": [
  {
   "cell_type": "markdown",
   "metadata": {},
   "source": [
    "# Python para Ciência de Dados - Condicionais - Parte 3"
   ]
  },
  {
   "cell_type": "markdown",
   "metadata": {},
   "source": [
    "## Operador lógico OU \n",
    "Vimos que podemos iterar sobre nossa base de dados e filtrar as informações que nos são convenientes. Também sabemos usar o operador `and` para verificar se mais de uma condição é verdadeira. Mas em alguns casos, vai ser interessante que nós olhemos se é verdadeira uma **ou** outra condição, para isso utilizamos o operador `or`. No exemplo a baixo, vamos iterar sobre nossa base de dados e salvar os artistas que falam espanhol (artistas mexicanos e espanhóis)."
   ]
  },
  {
   "cell_type": "code",
   "execution_count": 3,
   "metadata": {},
   "outputs": [],
   "source": [
    "import pandas as pd\n",
    "artistas = pd.read_csv('artistas.csv')"
   ]
  },
  {
   "cell_type": "code",
   "execution_count": 4,
   "metadata": {},
   "outputs": [
    {
     "name": "stdout",
     "output_type": "stream",
     "text": [
      "['Diego Rivera', 'Salvador Dali', 'Pablo Picasso', 'Francisco Goya', 'Frida Kahlo', 'Diego Velazquez', 'Joan Miro']\n"
     ]
    }
   ],
   "source": [
    "falam_espanhol = []\n",
    "\n",
    "for indice, coluna in artistas.iterrows():\n",
    "    if coluna[\"nationality\"] == 'Mexican' or coluna[\"nationality\"] == 'Spanish':\n",
    "        falam_espanhol.append(coluna[\"name\"])\n",
    "        \n",
    "print(falam_espanhol)"
   ]
  },
  {
   "cell_type": "markdown",
   "metadata": {},
   "source": [
    "Resumo sobre os operadores lógicos:\n",
    "- `and`:\n",
    "    O valor lógico da condição é verdadeiro se todos as condições forem verdadeiras."
   ]
  },
  {
   "cell_type": "code",
   "execution_count": 5,
   "metadata": {},
   "outputs": [
    {
     "name": "stdout",
     "output_type": "stream",
     "text": [
      "True\n",
      "False\n",
      "False\n",
      "False\n",
      "False\n"
     ]
    }
   ],
   "source": [
    "print(True and True)\n",
    "print(True and False)\n",
    "print(False and True)\n",
    "print(False and False)\n",
    "print(True and True and True and False)"
   ]
  },
  {
   "cell_type": "markdown",
   "metadata": {},
   "source": [
    "- `or`:\n",
    "    O valor lógico da condição é verdadeiro se pelo menos uma das condições for verdadeira."
   ]
  },
  {
   "cell_type": "code",
   "execution_count": 6,
   "metadata": {},
   "outputs": [
    {
     "name": "stdout",
     "output_type": "stream",
     "text": [
      "True\n",
      "True\n",
      "True\n",
      "False\n",
      "True\n"
     ]
    }
   ],
   "source": [
    "print(True or True)\n",
    "print(True or False)\n",
    "print(False or True)\n",
    "print(False or False)\n",
    "print(False or False or False or True)"
   ]
  },
  {
   "cell_type": "markdown",
   "metadata": {},
   "source": [
    "#### Exercício\n",
    "1. Itere sobre os dados dos artistas e retorne apenas os artistas que representam o moviemento Surrealista **ou** Cubista. Por fim, imprima na tela a lista desses artistas. "
   ]
  },
  {
   "cell_type": "code",
   "execution_count": null,
   "metadata": {},
   "outputs": [],
   "source": []
  },
  {
   "cell_type": "markdown",
   "metadata": {},
   "source": [
    "## Unindo operadores lógicos\n",
    "Para verificarmos se uma condição é verdadeira, podemos utilizar ambos os operadores e assim recebermos a resposta desejada. Além disso, podemos utilizar os `()` e unificar uma resposta para ser usada separadamente:"
   ]
  },
  {
   "cell_type": "code",
   "execution_count": 7,
   "metadata": {},
   "outputs": [
    {
     "name": "stdout",
     "output_type": "stream",
     "text": [
      "True\n",
      "False\n",
      "True\n"
     ]
    }
   ],
   "source": [
    "print((True or True) or False)\n",
    "print((True or False) and False)\n",
    "print((True or True) and (False or True))"
   ]
  },
  {
   "cell_type": "markdown",
   "metadata": {},
   "source": [
    "Sabendo disso, nós podemos iterar sobre nossa base de dados e retornar, por exemplo, os artistas que são franceses e que são do movimento Realista ou Impressionista:"
   ]
  },
  {
   "cell_type": "code",
   "execution_count": 8,
   "metadata": {},
   "outputs": [
    {
     "name": "stdout",
     "output_type": "stream",
     "text": [
      "['Claude Monet', 'Edouard Manet', 'Pierre-Auguste Renoir', 'Henri Matisse', 'Edgar Degas', 'Gustave Courbet', 'Camille Pissarro']\n"
     ]
    }
   ],
   "source": [
    "filtro_artistas = []\n",
    "\n",
    "for indice, coluna in artistas.iterrows():\n",
    "    if coluna[\"nationality\"] == 'French' and (coluna[\"genre\"] == 'Impressionism' or coluna[\"genre\"] == 'Realism'):\n",
    "        filtro_artistas.append(coluna[\"name\"])\n",
    "        \n",
    "print(filtro_artistas)"
   ]
  },
  {
   "cell_type": "markdown",
   "metadata": {},
   "source": [
    "#### Exercício\n",
    "2. Itere sobre os dados dos artistas e retorne apenas os artistas russos **ou** italianos que são do movimento Expressionista. Por fim, imprima na tela a lista desses artistas."
   ]
  },
  {
   "cell_type": "code",
   "execution_count": null,
   "metadata": {},
   "outputs": [],
   "source": []
  },
  {
   "cell_type": "markdown",
   "metadata": {},
   "source": [
    "## Outros operadores comparativos\n",
    "Além de compararmos dois valores com os operadores de igualdade(`==`) e diferença(`!=`) já vistos, nós podemos comparar outras características desses valores. Nós podemos comparar o valor de `a` e `b` e verificar se:"
   ]
  },
  {
   "cell_type": "markdown",
   "metadata": {},
   "source": [
    "```python\n",
    "a = 10\n",
    "b = 5\n",
    "```\n",
    "- `a` é **maior que** `b`?\n",
    "    ```python\n",
    "    print(a > b) #True\n",
    "    ```\n",
    "- `a` é **maior ou igual a** `b`?\n",
    "    ```python\n",
    "    print(a >= b) #True\n",
    "    ```\n",
    "- `a` é **menor que** `b`?\n",
    "    ```python\n",
    "    print(a < b) #False\n",
    "    ```\n",
    "- `a` é **menor ou igual a** `b`?\n",
    "    ```python\n",
    "    print(a <= b) #False\n",
    "    ```"
   ]
  },
  {
   "cell_type": "markdown",
   "metadata": {},
   "source": [
    "Esses operadores são muito poderosos e muito úteis. Por exemplo, com os dados dos artistas e utilizando esses novos operadores, podemos descobrir quantos deles pintaram pelo menos 100 obras e no máximo 150 obras. Para fazer isso é bem simples, basta iterarmos sobre os artistas e verificarmos se a quantidade de obras (`coluna[\"paintings\"]`) é **maior ou igual** a 100 e se essa quantidade ser **menor ou igual** a 150."
   ]
  },
  {
   "cell_type": "code",
   "execution_count": 11,
   "metadata": {},
   "outputs": [
    {
     "name": "stdout",
     "output_type": "stream",
     "text": [
      "12\n"
     ]
    }
   ],
   "source": [
    "artistas_mais_de_100 = 0\n",
    "\n",
    "for indice, coluna in artistas.iterrows():\n",
    "    if coluna[\"paintings\"] >= 100 and coluna[\"paintings\"] <= 150:\n",
    "        artistas_mais_de_100 += 1;\n",
    "        \n",
    "print(artistas_mais_de_100)"
   ]
  },
  {
   "cell_type": "markdown",
   "metadata": {},
   "source": [
    "#### Exercício\n",
    "3. Itere sobre os dados dos artistas e salve numa lista chamada `artistas_selecionados`, os artistas Surrealistas **ou** Expressionistas que são italianos **ou** espanhóis e que pintaram mais de 100 obras. Por fim, imprima na tela a lista desses artistas."
   ]
  },
  {
   "cell_type": "code",
   "execution_count": null,
   "metadata": {},
   "outputs": [],
   "source": []
  }
 ],
 "metadata": {
  "kernelspec": {
   "display_name": "Python 3",
   "language": "python",
   "name": "python3"
  },
  "language_info": {
   "codemirror_mode": {
    "name": "ipython",
    "version": 3
   },
   "file_extension": ".py",
   "mimetype": "text/x-python",
   "name": "python",
   "nbconvert_exporter": "python",
   "pygments_lexer": "ipython3",
   "version": "3.7.3"
  }
 },
 "nbformat": 4,
 "nbformat_minor": 2
}
