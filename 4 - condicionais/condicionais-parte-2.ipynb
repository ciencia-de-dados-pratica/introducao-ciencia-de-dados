{
 "cells": [
  {
   "cell_type": "markdown",
   "metadata": {},
   "source": [
    "# Python para Ciência de Dados - Condicionais - Parte 2"
   ]
  },
  {
   "cell_type": "markdown",
   "metadata": {},
   "source": [
    "## Operador diferente\n",
    "Nós já sabemos verificar se um determinado dado é igual a outro, para isso utilizamos o operador `==`. Porém, em algumas situações, é necessário nós compararmos se um dado é diferente de um outro dado. Para isso, nós utilizamos o operador de diferente: `!=`. "
   ]
  },
  {
   "cell_type": "code",
   "execution_count": 7,
   "metadata": {},
   "outputs": [
    {
     "name": "stdout",
     "output_type": "stream",
     "text": [
      "True\n",
      "False\n"
     ]
    }
   ],
   "source": [
    "print(10 != 1)\n",
    "print(10 != 10)"
   ]
  },
  {
   "cell_type": "markdown",
   "metadata": {},
   "source": [
    "No nosso exemplo com a base de dados, podemos filtrar apenas os artistas que não são representantes do movimento Realista. Para isso, basta nós percorrermos os dados e utilizarmos o operador `!=` e exluírmos os que não desejamos:"
   ]
  },
  {
   "cell_type": "code",
   "execution_count": 8,
   "metadata": {},
   "outputs": [],
   "source": [
    "import pandas as pd\n",
    "artistas = pd.read_csv('artistas.csv')"
   ]
  },
  {
   "cell_type": "code",
   "execution_count": 9,
   "metadata": {},
   "outputs": [
    {
     "name": "stdout",
     "output_type": "stream",
     "text": [
      "['Amedeo Modigliani', 'Vasiliy Kandinskiy', 'Diego Rivera', 'Claude Monet', 'Rene Magritte', 'Salvador Dali', 'Andrei Rublev', 'Vincent van Gogh', 'Gustav Klimt', 'Hieronymus Bosch', 'Kazimir Malevich', 'Mikhail Vrubel', 'Pablo Picasso', 'Peter Paul Rubens', 'Pierre-Auguste Renoir', 'Francisco Goya', 'Frida Kahlo', 'El Greco', 'Albrecht Dürer', 'Alfred Sisley', 'Pieter Bruegel', 'Marc Chagall', 'Giotto di Bondone', 'Sandro Botticelli', 'Caravaggio', 'Leonardo da Vinci', 'Diego Velazquez', 'Henri Matisse', 'Jan van Eyck', 'Edgar Degas', 'Rembrandt', 'Titian', 'Henri de Toulouse-Lautrec', 'Camille Pissarro', 'William Turner', 'Edvard Munch', 'Paul Cezanne', 'Eugene Delacroix', 'Henri Rousseau', 'Georges Seurat', 'Paul Klee', 'Piet Mondrian', 'Joan Miro', 'Andy Warhol', 'Paul Gauguin', 'Raphael', 'Michelangelo', 'Jackson Pollock']\n"
     ]
    }
   ],
   "source": [
    "nao_realistas = []\n",
    "\n",
    "for indice, coluna in artistas.iterrows():\n",
    "    if coluna[\"genre\"] != 'Realism':\n",
    "        nao_realistas.append(coluna[\"name\"])\n",
    "        \n",
    "print(nao_realistas)"
   ]
  },
  {
   "cell_type": "markdown",
   "metadata": {},
   "source": [
    "#### Exercício\n",
    "1. Busque entre os dados dos artistas, os que não possuem nacionalidade francesa e os salve numa lista chamada `nao_franceses`."
   ]
  },
  {
   "cell_type": "code",
   "execution_count": null,
   "metadata": {},
   "outputs": [],
   "source": []
  },
  {
   "cell_type": "markdown",
   "metadata": {},
   "source": [
    "## Calculando a média\n",
    "Através do que vimos até agora, como poderíamos fazer para termos a média da quantidade de pinturas dos artistas italianos? \n",
    "\n",
    "Vamos unir as informações adquiridas e resolvermos o problema. Para isso nós precisamos iterar sobre os artistas, verficar quais possuem nacionalidade italiana e salvar a quantidade de obras de cada artista italiano numa lista camada `obras_artistas_italianos`. Em seguida, salvamos na variável `media`, o valor da soma de todos os valores da lista `obras_artistas_italianos` por meio do método `sum()` e dividimos esse valor pelo tamanho da lista, que obtemos pelo método `len()`."
   ]
  },
  {
   "cell_type": "code",
   "execution_count": 11,
   "metadata": {},
   "outputs": [
    {
     "name": "stdout",
     "output_type": "stream",
     "text": [
      "135.875\n"
     ]
    }
   ],
   "source": [
    "obras_artistas_italianos = []\n",
    "\n",
    "for indice, coluna in artistas.iterrows():\n",
    "    if coluna[\"nationality\"] == 'Italian':\n",
    "        obras_artistas_italianos.append(coluna[\"paintings\"])\n",
    "media = sum(obras_artistas_italianos) / len(obras_artistas_italianos)\n",
    "\n",
    "print(media)"
   ]
  },
  {
   "cell_type": "markdown",
   "metadata": {},
   "source": [
    "#### Exercício\n",
    "2. Itere sobre os artistas e descubra o valor inteiro da média da quantidade de obras dos artistas não franceses."
   ]
  },
  {
   "cell_type": "code",
   "execution_count": null,
   "metadata": {},
   "outputs": [],
   "source": []
  },
  {
   "cell_type": "markdown",
   "metadata": {},
   "source": [
    "## Unindo informações\n",
    "Até agora, estamos verificando apenas uma condição, se o artista é espanhol, se ele é Surrealista, etc. Mas e se quisermos saber se esse tal artista é espanhol **e** Surrealista?\n",
    "\n",
    "Para isso, podemos usar o operador `and` e verficarmos **se ambas as condições são verdadeiras**."
   ]
  },
  {
   "cell_type": "code",
   "execution_count": 14,
   "metadata": {},
   "outputs": [
    {
     "name": "stdout",
     "output_type": "stream",
     "text": [
      "['Salvador Dali', 'Joan Miro']\n"
     ]
    }
   ],
   "source": [
    "artistas_espanhois_e_surrealistas = []\n",
    "\n",
    "for indice, coluna in artistas.iterrows():\n",
    "    if coluna[\"nationality\"] == 'Spanish' and coluna[\"genre\"] == 'Surrealism':\n",
    "        artistas_espanhois_e_surrealistas.append(coluna[\"name\"])\n",
    "        \n",
    "print(artistas_espanhois_e_surrealistas)"
   ]
  },
  {
   "cell_type": "markdown",
   "metadata": {},
   "source": [
    "#### Exercício\n",
    "3. Itere sobre os artistas e descubra quais artistas são espanhóis, são do movimento Cubista e possuiem 439 obras. "
   ]
  },
  {
   "cell_type": "code",
   "execution_count": null,
   "metadata": {},
   "outputs": [],
   "source": []
  }
 ],
 "metadata": {
  "kernelspec": {
   "display_name": "Python 3",
   "language": "python",
   "name": "python3"
  },
  "language_info": {
   "codemirror_mode": {
    "name": "ipython",
    "version": 3
   },
   "file_extension": ".py",
   "mimetype": "text/x-python",
   "name": "python",
   "nbconvert_exporter": "python",
   "pygments_lexer": "ipython3",
   "version": "3.7.3"
  }
 },
 "nbformat": 4,
 "nbformat_minor": 2
}
