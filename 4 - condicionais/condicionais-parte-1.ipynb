{
 "cells": [
  {
   "cell_type": "markdown",
   "metadata": {},
   "source": [
    "# Python para Ciência de Dados - Condicionais - Parte 1"
   ]
  },
  {
   "cell_type": "markdown",
   "metadata": {},
   "source": [
    "Bom, agora vamos trabalhar sobre uma base de dados referente à algumas das pinturas mais famosas. Nosso ojetivo aogora é aprendermos a além de iterar sobre a base de dados, comparar suas informações internas e assim pordermos chegar a algumas conclusões relevantes."
   ]
  },
  {
   "cell_type": "markdown",
   "metadata": {},
   "source": [
    "## Importando a base de dados\n",
    "Para começarmos, vamos importar o `pandas`, uma biblioteca Python que nos fornece algumas ferramentas de análise de dados e estruturas de dados de alta performance e fáceis de usar. Em seguida, criamos a variável `artistas` que receberá os dados do arquivo _csv_, que é a nossa base de dados.  "
   ]
  },
  {
   "cell_type": "code",
   "execution_count": 1,
   "metadata": {
    "scrolled": false
   },
   "outputs": [],
   "source": [
    "import pandas as pd\n",
    "artistas = pd.read_csv('artistas.csv')"
   ]
  },
  {
   "cell_type": "markdown",
   "metadata": {},
   "source": [
    "Agora vamos ver a base de dados que importamos. Para isso, usamos o método `head()` que nos retorna as primeiros _n_ linhas (5 por padrão) da nossa base de dados."
   ]
  },
  {
   "cell_type": "code",
   "execution_count": 2,
   "metadata": {
    "scrolled": true
   },
   "outputs": [
    {
     "data": {
      "text/html": [
       "<div>\n",
       "<style scoped>\n",
       "    .dataframe tbody tr th:only-of-type {\n",
       "        vertical-align: middle;\n",
       "    }\n",
       "\n",
       "    .dataframe tbody tr th {\n",
       "        vertical-align: top;\n",
       "    }\n",
       "\n",
       "    .dataframe thead th {\n",
       "        text-align: right;\n",
       "    }\n",
       "</style>\n",
       "<table border=\"1\" class=\"dataframe\">\n",
       "  <thead>\n",
       "    <tr style=\"text-align: right;\">\n",
       "      <th></th>\n",
       "      <th>id</th>\n",
       "      <th>name</th>\n",
       "      <th>years</th>\n",
       "      <th>genre</th>\n",
       "      <th>nationality</th>\n",
       "      <th>bio</th>\n",
       "      <th>wikipedia</th>\n",
       "      <th>paintings</th>\n",
       "    </tr>\n",
       "  </thead>\n",
       "  <tbody>\n",
       "    <tr>\n",
       "      <th>0</th>\n",
       "      <td>0</td>\n",
       "      <td>Amedeo Modigliani</td>\n",
       "      <td>1884 - 1920</td>\n",
       "      <td>Expressionism</td>\n",
       "      <td>Italian</td>\n",
       "      <td>Amedeo Clemente Modigliani (Italian pronunciat...</td>\n",
       "      <td>http://en.wikipedia.org/wiki/Amedeo_Modigliani</td>\n",
       "      <td>193</td>\n",
       "    </tr>\n",
       "    <tr>\n",
       "      <th>1</th>\n",
       "      <td>1</td>\n",
       "      <td>Vasiliy Kandinskiy</td>\n",
       "      <td>1866 - 1944</td>\n",
       "      <td>Expressionism</td>\n",
       "      <td>Russian</td>\n",
       "      <td>Wassily Wassilyevich Kandinsky (Russian: Васи́...</td>\n",
       "      <td>http://en.wikipedia.org/wiki/Wassily_Kandinsky</td>\n",
       "      <td>88</td>\n",
       "    </tr>\n",
       "    <tr>\n",
       "      <th>2</th>\n",
       "      <td>2</td>\n",
       "      <td>Diego Rivera</td>\n",
       "      <td>1886 - 1957</td>\n",
       "      <td>Social Realism</td>\n",
       "      <td>Mexican</td>\n",
       "      <td>Diego María de la Concepción Juan Nepomuceno E...</td>\n",
       "      <td>http://en.wikipedia.org/wiki/Diego_Rivera</td>\n",
       "      <td>70</td>\n",
       "    </tr>\n",
       "    <tr>\n",
       "      <th>3</th>\n",
       "      <td>3</td>\n",
       "      <td>Claude Monet</td>\n",
       "      <td>1840 - 1926</td>\n",
       "      <td>Impressionism</td>\n",
       "      <td>French</td>\n",
       "      <td>Oscar-Claude Monet (; French: [klod mɔnɛ]; 14 ...</td>\n",
       "      <td>http://en.wikipedia.org/wiki/Claude_Monet</td>\n",
       "      <td>73</td>\n",
       "    </tr>\n",
       "    <tr>\n",
       "      <th>4</th>\n",
       "      <td>4</td>\n",
       "      <td>Rene Magritte</td>\n",
       "      <td>1898 - 1967</td>\n",
       "      <td>Surrealism</td>\n",
       "      <td>Belgian</td>\n",
       "      <td>René François Ghislain Magritte (French: [ʁəne...</td>\n",
       "      <td>http://en.wikipedia.org/wiki/René_Magritte</td>\n",
       "      <td>194</td>\n",
       "    </tr>\n",
       "  </tbody>\n",
       "</table>\n",
       "</div>"
      ],
      "text/plain": [
       "   id                name        years           genre nationality  \\\n",
       "0   0   Amedeo Modigliani  1884 - 1920   Expressionism     Italian   \n",
       "1   1  Vasiliy Kandinskiy  1866 - 1944   Expressionism     Russian   \n",
       "2   2        Diego Rivera  1886 - 1957  Social Realism     Mexican   \n",
       "3   3        Claude Monet  1840 - 1926   Impressionism      French   \n",
       "4   4       Rene Magritte  1898 - 1967      Surrealism     Belgian   \n",
       "\n",
       "                                                 bio  \\\n",
       "0  Amedeo Clemente Modigliani (Italian pronunciat...   \n",
       "1  Wassily Wassilyevich Kandinsky (Russian: Васи́...   \n",
       "2  Diego María de la Concepción Juan Nepomuceno E...   \n",
       "3  Oscar-Claude Monet (; French: [klod mɔnɛ]; 14 ...   \n",
       "4  René François Ghislain Magritte (French: [ʁəne...   \n",
       "\n",
       "                                        wikipedia  paintings  \n",
       "0  http://en.wikipedia.org/wiki/Amedeo_Modigliani        193  \n",
       "1  http://en.wikipedia.org/wiki/Wassily_Kandinsky         88  \n",
       "2       http://en.wikipedia.org/wiki/Diego_Rivera         70  \n",
       "3       http://en.wikipedia.org/wiki/Claude_Monet         73  \n",
       "4      http://en.wikipedia.org/wiki/René_Magritte        194  "
      ]
     },
     "metadata": {},
     "output_type": "display_data"
    }
   ],
   "source": [
    "display(artistas.head())"
   ]
  },
  {
   "cell_type": "markdown",
   "metadata": {},
   "source": [
    "## Buscando informações específicas"
   ]
  },
  {
   "cell_type": "markdown",
   "metadata": {},
   "source": [
    "Imagine que você está analisando as informações desses artistas, mas você deseja visualizar apenas os pintores que pertencem a determinado movimento artístico, como fazer isso? \n",
    "\n",
    "Bom, nós já conseguimos iterar sobre as informações, mas precisamos de alguma forma de filtrar as informações encontradas. Para isso nós temos a estrutura condicional `if`, por meio dela, podemos verificar se determinada condição é verdadeira, se for, faremos algo.\n",
    "\n",
    "Para resolvermos o problema de recebermos apenas os artistas do movimento Surrealista, podemos fazer o seguinte código:"
   ]
  },
  {
   "cell_type": "code",
   "execution_count": 40,
   "metadata": {},
   "outputs": [
    {
     "name": "stdout",
     "output_type": "stream",
     "text": [
      "['Rene Magritte', 'Salvador Dali', 'Joan Miro']\n"
     ]
    }
   ],
   "source": [
    "surrealistas = []\n",
    "for indice, coluna in artistas.iterrows():\n",
    "    if coluna[\"genre\"] == 'Surrealism':\n",
    "        surrealistas.append(coluna[\"name\"])\n",
    "print(surrealistas)"
   ]
  },
  {
   "cell_type": "markdown",
   "metadata": {},
   "source": [
    "A estrutura condicional é basicamente composta pela palavra chave `if` seguida pela condição que estamos testando e finalizamos com `:`."
   ]
  },
  {
   "cell_type": "markdown",
   "metadata": {},
   "source": [
    "#### Exercício\n",
    "1. Busque entre os dados dos artistas, os que possuem nacionalidade italiana e os salve numa lista chamada `artistas_italianos`."
   ]
  },
  {
   "cell_type": "code",
   "execution_count": null,
   "metadata": {},
   "outputs": [],
   "source": []
  },
  {
   "cell_type": "markdown",
   "metadata": {},
   "source": [
    "## Bool"
   ]
  },
  {
   "cell_type": "markdown",
   "metadata": {},
   "source": [
    "Anteriormente, nós usamos a expressão `if coluna[\"genre\"] == 'Surrealism':` para verificarmos se o gênero de arte na coluna era Surrealista. Quando usamos o operador `==`, estamos comparando se os dois valores são, ou não, iguais. Há duas possíveis respostas para essa condição: `True`(vardade) ou `False`(falso).\n",
    "\n",
    "`True` e `False` são considerados valores Booleanos, ou apenas bool."
   ]
  },
  {
   "cell_type": "code",
   "execution_count": 43,
   "metadata": {
    "scrolled": true
   },
   "outputs": [
    {
     "name": "stdout",
     "output_type": "stream",
     "text": [
      "True\n",
      "False\n"
     ]
    },
    {
     "data": {
      "text/plain": [
       "bool"
      ]
     },
     "execution_count": 43,
     "metadata": {},
     "output_type": "execute_result"
    }
   ],
   "source": [
    "print(1==1)\n",
    "print(1==10)\n",
    "type(True)"
   ]
  },
  {
   "cell_type": "markdown",
   "metadata": {},
   "source": [
    "Em resumo, o operador condicional `if` irá verficar o valor lógico (verdadeiro ou falso) da expressão passada a ele. Se essa condição for verdadeira, o bloco de código que estiver dentro do `if` será executado, caso contrário, será ignorado.\n",
    "\n",
    "A seguir temos alguns exemplos de estruturas condicionais:"
   ]
  },
  {
   "cell_type": "code",
   "execution_count": 48,
   "metadata": {
    "scrolled": true
   },
   "outputs": [
    {
     "name": "stdout",
     "output_type": "stream",
     "text": [
      "É verdade!\n",
      "10 é 10\n"
     ]
    }
   ],
   "source": [
    "if True:\n",
    "    print(\"É verdade!\")\n",
    "if False:\n",
    "    print(\"É false!\")\n",
    "if 10 == 10:\n",
    "    print(\"10 é 10\")\n",
    "if 10 == 15:\n",
    "    print(\"10 é 15\")"
   ]
  },
  {
   "cell_type": "markdown",
   "metadata": {},
   "source": [
    "#### Exercício\n",
    "2. Verifique se a variável `quantidade` é 0, se for, imprima \"É zero!\". Se ela for 1, imprima \"É um!\""
   ]
  },
  {
   "cell_type": "code",
   "execution_count": 46,
   "metadata": {},
   "outputs": [],
   "source": [
    "quantidade = 0"
   ]
  }
 ],
 "metadata": {
  "kernelspec": {
   "display_name": "Python 3",
   "language": "python",
   "name": "python3"
  },
  "language_info": {
   "codemirror_mode": {
    "name": "ipython",
    "version": 3
   },
   "file_extension": ".py",
   "mimetype": "text/x-python",
   "name": "python",
   "nbconvert_exporter": "python",
   "pygments_lexer": "ipython3",
   "version": "3.7.3"
  }
 },
 "nbformat": 4,
 "nbformat_minor": 2
}
